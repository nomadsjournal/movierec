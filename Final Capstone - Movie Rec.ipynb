{
 "cells": [
  {
   "cell_type": "markdown",
   "metadata": {},
   "source": [
    "# Overview \n",
    "\n",
    "## Objective \n",
    "Build a recommendation engine using MovieLens datasets to predict user’s movie interest. \n",
    "\n",
    "## Motivation \n",
    "Recommendation engines are versatile and being needed/used across many industries - media (news), entertainment (streaming), e-commerce, social media, etc. I want to see how I can build a recommendation engine with movie datasets to do the following:\n",
    "\n",
    "- Suggest movies based on other user's ratings\n",
    "- Suggest movies based on movie features\n",
    "- Predict user’s rating for movies, so that I can suggest movies they might like\n",
    "\n",
    "## Value \n",
    "This exercise will give insight to the business to:\n",
    "- Predict what users like to make decisions on content\n",
    "- Create a curated experience for users in the sea of choices\n",
    "\n",
    "## You can see me using...\n",
    "- Data Visualization: Seaborn, Matplotlib\n",
    "- Feature Engineering: PCA, CountVectorizer, one-hot encoding\n",
    "- Models: NearestNeighbors (Unsupervised), Keras Embedding (Supervised)\n",
    "\n",
    "\n",
    "## Dataset\n",
    "https://grouplens.org/datasets/movielens/\n",
    "\n",
    "## To improve\n",
    "Originally, I wanted to build a class that recommends movies based on the features that I've built. However, I wasn't able to do that due to tight timeframe. I am planning to improve movie recommendations considering user experience, then build classes in the future.\n"
   ]
  },
  {
   "cell_type": "code",
   "execution_count": 2,
   "metadata": {},
   "outputs": [
    {
     "name": "stderr",
     "output_type": "stream",
     "text": [
      "Using TensorFlow backend.\n"
     ]
    }
   ],
   "source": [
    "import pandas as pd\n",
    "import numpy as np\n",
    "import os\n",
    "import matplotlib.pyplot as plt\n",
    "import seaborn as sns\n",
    "import re\n",
    "\n",
    "import os\n",
    "import keras\n",
    "from keras.utils import np_utils\n",
    "from keras.models import Sequential\n",
    "from keras.layers import Conv2D,MaxPooling2D,Dense,Flatten,Dropout,Dot\n",
    "from keras.layers import Conv1D\n",
    "import cv2\n",
    "from sklearn.metrics import mean_absolute_error\n",
    "from sklearn.metrics import mean_squared_error"
   ]
  },
  {
   "cell_type": "code",
   "execution_count": 3,
   "metadata": {},
   "outputs": [],
   "source": [
    "genomeScores = pd.read_csv('genome-scores.csv')\n",
    "genomeTags = pd.read_csv('genome-tags.csv')\n",
    "movies = pd.read_csv('movies.csv')\n",
    "ratings = pd.read_csv('ratings.csv')"
   ]
  },
  {
   "cell_type": "markdown",
   "metadata": {},
   "source": [
    "# Get to know the data"
   ]
  },
  {
   "cell_type": "code",
   "execution_count": 4,
   "metadata": {},
   "outputs": [
    {
     "name": "stdout",
     "output_type": "stream",
     "text": [
      "(11709768, 3)\n"
     ]
    },
    {
     "data": {
      "text/html": [
       "<div>\n",
       "<style scoped>\n",
       "    .dataframe tbody tr th:only-of-type {\n",
       "        vertical-align: middle;\n",
       "    }\n",
       "\n",
       "    .dataframe tbody tr th {\n",
       "        vertical-align: top;\n",
       "    }\n",
       "\n",
       "    .dataframe thead th {\n",
       "        text-align: right;\n",
       "    }\n",
       "</style>\n",
       "<table border=\"1\" class=\"dataframe\">\n",
       "  <thead>\n",
       "    <tr style=\"text-align: right;\">\n",
       "      <th></th>\n",
       "      <th>movieId</th>\n",
       "      <th>tagId</th>\n",
       "      <th>relevance</th>\n",
       "    </tr>\n",
       "  </thead>\n",
       "  <tbody>\n",
       "    <tr>\n",
       "      <th>0</th>\n",
       "      <td>1</td>\n",
       "      <td>1</td>\n",
       "      <td>0.02500</td>\n",
       "    </tr>\n",
       "    <tr>\n",
       "      <th>1</th>\n",
       "      <td>1</td>\n",
       "      <td>2</td>\n",
       "      <td>0.02500</td>\n",
       "    </tr>\n",
       "    <tr>\n",
       "      <th>2</th>\n",
       "      <td>1</td>\n",
       "      <td>3</td>\n",
       "      <td>0.05775</td>\n",
       "    </tr>\n",
       "    <tr>\n",
       "      <th>3</th>\n",
       "      <td>1</td>\n",
       "      <td>4</td>\n",
       "      <td>0.09675</td>\n",
       "    </tr>\n",
       "    <tr>\n",
       "      <th>4</th>\n",
       "      <td>1</td>\n",
       "      <td>5</td>\n",
       "      <td>0.14675</td>\n",
       "    </tr>\n",
       "  </tbody>\n",
       "</table>\n",
       "</div>"
      ],
      "text/plain": [
       "   movieId  tagId  relevance\n",
       "0        1      1    0.02500\n",
       "1        1      2    0.02500\n",
       "2        1      3    0.05775\n",
       "3        1      4    0.09675\n",
       "4        1      5    0.14675"
      ]
     },
     "execution_count": 4,
     "metadata": {},
     "output_type": "execute_result"
    }
   ],
   "source": [
    "print(genomeScores.shape)\n",
    "genomeScores.head(5)"
   ]
  },
  {
   "cell_type": "markdown",
   "metadata": {},
   "source": [
    "**Tags** - user-generated metadata about movies. Each tag is typically a single word or short phrase. The meaning, value, and purpose of a particular tag is determined by each user.\n",
    "\n",
    "**Timestamps** - seconds since midnight Coordinated Universal Time (UTC) of January 1, 1970.\n"
   ]
  },
  {
   "cell_type": "code",
   "execution_count": 5,
   "metadata": {},
   "outputs": [
    {
     "name": "stdout",
     "output_type": "stream",
     "text": [
      "(27278, 3)\n"
     ]
    },
    {
     "data": {
      "text/html": [
       "<div>\n",
       "<style scoped>\n",
       "    .dataframe tbody tr th:only-of-type {\n",
       "        vertical-align: middle;\n",
       "    }\n",
       "\n",
       "    .dataframe tbody tr th {\n",
       "        vertical-align: top;\n",
       "    }\n",
       "\n",
       "    .dataframe thead th {\n",
       "        text-align: right;\n",
       "    }\n",
       "</style>\n",
       "<table border=\"1\" class=\"dataframe\">\n",
       "  <thead>\n",
       "    <tr style=\"text-align: right;\">\n",
       "      <th></th>\n",
       "      <th>movieId</th>\n",
       "      <th>title</th>\n",
       "      <th>genres</th>\n",
       "    </tr>\n",
       "  </thead>\n",
       "  <tbody>\n",
       "    <tr>\n",
       "      <th>0</th>\n",
       "      <td>1</td>\n",
       "      <td>Toy Story (1995)</td>\n",
       "      <td>Adventure|Animation|Children|Comedy|Fantasy</td>\n",
       "    </tr>\n",
       "    <tr>\n",
       "      <th>1</th>\n",
       "      <td>2</td>\n",
       "      <td>Jumanji (1995)</td>\n",
       "      <td>Adventure|Children|Fantasy</td>\n",
       "    </tr>\n",
       "    <tr>\n",
       "      <th>2</th>\n",
       "      <td>3</td>\n",
       "      <td>Grumpier Old Men (1995)</td>\n",
       "      <td>Comedy|Romance</td>\n",
       "    </tr>\n",
       "    <tr>\n",
       "      <th>3</th>\n",
       "      <td>4</td>\n",
       "      <td>Waiting to Exhale (1995)</td>\n",
       "      <td>Comedy|Drama|Romance</td>\n",
       "    </tr>\n",
       "    <tr>\n",
       "      <th>4</th>\n",
       "      <td>5</td>\n",
       "      <td>Father of the Bride Part II (1995)</td>\n",
       "      <td>Comedy</td>\n",
       "    </tr>\n",
       "  </tbody>\n",
       "</table>\n",
       "</div>"
      ],
      "text/plain": [
       "   movieId                               title  \\\n",
       "0        1                    Toy Story (1995)   \n",
       "1        2                      Jumanji (1995)   \n",
       "2        3             Grumpier Old Men (1995)   \n",
       "3        4            Waiting to Exhale (1995)   \n",
       "4        5  Father of the Bride Part II (1995)   \n",
       "\n",
       "                                        genres  \n",
       "0  Adventure|Animation|Children|Comedy|Fantasy  \n",
       "1                   Adventure|Children|Fantasy  \n",
       "2                               Comedy|Romance  \n",
       "3                         Comedy|Drama|Romance  \n",
       "4                                       Comedy  "
      ]
     },
     "execution_count": 5,
     "metadata": {},
     "output_type": "execute_result"
    }
   ],
   "source": [
    "print(movies.shape)\n",
    "movies.head(5)"
   ]
  },
  {
   "cell_type": "code",
   "execution_count": 57,
   "metadata": {},
   "outputs": [
    {
     "name": "stdout",
     "output_type": "stream",
     "text": [
      "(20000263, 4)\n"
     ]
    },
    {
     "data": {
      "text/html": [
       "<div>\n",
       "<style scoped>\n",
       "    .dataframe tbody tr th:only-of-type {\n",
       "        vertical-align: middle;\n",
       "    }\n",
       "\n",
       "    .dataframe tbody tr th {\n",
       "        vertical-align: top;\n",
       "    }\n",
       "\n",
       "    .dataframe thead th {\n",
       "        text-align: right;\n",
       "    }\n",
       "</style>\n",
       "<table border=\"1\" class=\"dataframe\">\n",
       "  <thead>\n",
       "    <tr style=\"text-align: right;\">\n",
       "      <th></th>\n",
       "      <th>userId</th>\n",
       "      <th>movieId</th>\n",
       "      <th>rating</th>\n",
       "      <th>timestamp</th>\n",
       "    </tr>\n",
       "  </thead>\n",
       "  <tbody>\n",
       "    <tr>\n",
       "      <th>0</th>\n",
       "      <td>1</td>\n",
       "      <td>2</td>\n",
       "      <td>3.5</td>\n",
       "      <td>1112486027</td>\n",
       "    </tr>\n",
       "    <tr>\n",
       "      <th>1</th>\n",
       "      <td>1</td>\n",
       "      <td>29</td>\n",
       "      <td>3.5</td>\n",
       "      <td>1112484676</td>\n",
       "    </tr>\n",
       "    <tr>\n",
       "      <th>2</th>\n",
       "      <td>1</td>\n",
       "      <td>32</td>\n",
       "      <td>3.5</td>\n",
       "      <td>1112484819</td>\n",
       "    </tr>\n",
       "    <tr>\n",
       "      <th>3</th>\n",
       "      <td>1</td>\n",
       "      <td>47</td>\n",
       "      <td>3.5</td>\n",
       "      <td>1112484727</td>\n",
       "    </tr>\n",
       "    <tr>\n",
       "      <th>4</th>\n",
       "      <td>1</td>\n",
       "      <td>50</td>\n",
       "      <td>3.5</td>\n",
       "      <td>1112484580</td>\n",
       "    </tr>\n",
       "  </tbody>\n",
       "</table>\n",
       "</div>"
      ],
      "text/plain": [
       "   userId  movieId  rating   timestamp\n",
       "0       1        2     3.5  1112486027\n",
       "1       1       29     3.5  1112484676\n",
       "2       1       32     3.5  1112484819\n",
       "3       1       47     3.5  1112484727\n",
       "4       1       50     3.5  1112484580"
      ]
     },
     "execution_count": 57,
     "metadata": {},
     "output_type": "execute_result"
    }
   ],
   "source": [
    "print(ratings.shape)\n",
    "ratings.head(5)"
   ]
  },
  {
   "cell_type": "code",
   "execution_count": 7,
   "metadata": {},
   "outputs": [
    {
     "name": "stdout",
     "output_type": "stream",
     "text": [
      "(1128, 2)\n"
     ]
    },
    {
     "data": {
      "text/html": [
       "<div>\n",
       "<style scoped>\n",
       "    .dataframe tbody tr th:only-of-type {\n",
       "        vertical-align: middle;\n",
       "    }\n",
       "\n",
       "    .dataframe tbody tr th {\n",
       "        vertical-align: top;\n",
       "    }\n",
       "\n",
       "    .dataframe thead th {\n",
       "        text-align: right;\n",
       "    }\n",
       "</style>\n",
       "<table border=\"1\" class=\"dataframe\">\n",
       "  <thead>\n",
       "    <tr style=\"text-align: right;\">\n",
       "      <th></th>\n",
       "      <th>tagId</th>\n",
       "      <th>tag</th>\n",
       "    </tr>\n",
       "  </thead>\n",
       "  <tbody>\n",
       "    <tr>\n",
       "      <th>0</th>\n",
       "      <td>1</td>\n",
       "      <td>007</td>\n",
       "    </tr>\n",
       "    <tr>\n",
       "      <th>1</th>\n",
       "      <td>2</td>\n",
       "      <td>007 (series)</td>\n",
       "    </tr>\n",
       "    <tr>\n",
       "      <th>2</th>\n",
       "      <td>3</td>\n",
       "      <td>18th century</td>\n",
       "    </tr>\n",
       "    <tr>\n",
       "      <th>3</th>\n",
       "      <td>4</td>\n",
       "      <td>1920s</td>\n",
       "    </tr>\n",
       "    <tr>\n",
       "      <th>4</th>\n",
       "      <td>5</td>\n",
       "      <td>1930s</td>\n",
       "    </tr>\n",
       "  </tbody>\n",
       "</table>\n",
       "</div>"
      ],
      "text/plain": [
       "   tagId           tag\n",
       "0      1           007\n",
       "1      2  007 (series)\n",
       "2      3  18th century\n",
       "3      4         1920s\n",
       "4      5         1930s"
      ]
     },
     "execution_count": 7,
     "metadata": {},
     "output_type": "execute_result"
    }
   ],
   "source": [
    "print(genomeTags.shape)\n",
    "genomeTags.head(5)"
   ]
  },
  {
   "cell_type": "markdown",
   "metadata": {},
   "source": [
    "Unique columns:\n",
    "`userId`, `movieId`, `tagId`, `relevance`, `tag`, `timestamp`, `rating`, `title`, `genres`\n",
    "\n",
    "For the recommendation engine, I will be using following columns:\n",
    "- `userId`: Unique user ID to predict what they will like, numeric\n",
    "- `movieId`: Unique movie ID, numeric\n",
    "- `tagId`: TagID to tell the model feature of the movie, numeric\n",
    "- `relevance`: important feature fo movie\n",
    "- `genres`: part of feature, need to transform it to categorical values **\n",
    "- `year`: need to extract year from the `title` **\n",
    "- `timestamp`: use the timestamp to divide the train data so that I can introduce the data incrementally\n",
    "\n",
    "- `rating`: THE TARGET!"
   ]
  },
  {
   "cell_type": "markdown",
   "metadata": {},
   "source": [
    "# Prepare the data\n",
    "## Movies Dataset \n",
    "### Extract year from the title"
   ]
  },
  {
   "cell_type": "code",
   "execution_count": 7,
   "metadata": {},
   "outputs": [],
   "source": [
    "movies = pd.read_csv('movies.csv')"
   ]
  },
  {
   "cell_type": "code",
   "execution_count": 8,
   "metadata": {},
   "outputs": [],
   "source": [
    "get_year='\\(([0-9]+)\\)'\n",
    "title=movies['title']\n",
    "\n",
    "movies['year']=title.apply(lambda x: re.findall(get_year,x))"
   ]
  },
  {
   "cell_type": "code",
   "execution_count": 9,
   "metadata": {},
   "outputs": [
    {
     "data": {
      "text/html": [
       "<div>\n",
       "<style scoped>\n",
       "    .dataframe tbody tr th:only-of-type {\n",
       "        vertical-align: middle;\n",
       "    }\n",
       "\n",
       "    .dataframe tbody tr th {\n",
       "        vertical-align: top;\n",
       "    }\n",
       "\n",
       "    .dataframe thead th {\n",
       "        text-align: right;\n",
       "    }\n",
       "</style>\n",
       "<table border=\"1\" class=\"dataframe\">\n",
       "  <thead>\n",
       "    <tr style=\"text-align: right;\">\n",
       "      <th></th>\n",
       "      <th>movieId</th>\n",
       "      <th>title</th>\n",
       "      <th>genres</th>\n",
       "      <th>year</th>\n",
       "    </tr>\n",
       "  </thead>\n",
       "  <tbody>\n",
       "    <tr>\n",
       "      <th>0</th>\n",
       "      <td>1</td>\n",
       "      <td>Toy Story (1995)</td>\n",
       "      <td>Adventure|Animation|Children|Comedy|Fantasy</td>\n",
       "      <td>[1995]</td>\n",
       "    </tr>\n",
       "    <tr>\n",
       "      <th>1</th>\n",
       "      <td>2</td>\n",
       "      <td>Jumanji (1995)</td>\n",
       "      <td>Adventure|Children|Fantasy</td>\n",
       "      <td>[1995]</td>\n",
       "    </tr>\n",
       "    <tr>\n",
       "      <th>2</th>\n",
       "      <td>3</td>\n",
       "      <td>Grumpier Old Men (1995)</td>\n",
       "      <td>Comedy|Romance</td>\n",
       "      <td>[1995]</td>\n",
       "    </tr>\n",
       "  </tbody>\n",
       "</table>\n",
       "</div>"
      ],
      "text/plain": [
       "   movieId                    title  \\\n",
       "0        1         Toy Story (1995)   \n",
       "1        2           Jumanji (1995)   \n",
       "2        3  Grumpier Old Men (1995)   \n",
       "\n",
       "                                        genres    year  \n",
       "0  Adventure|Animation|Children|Comedy|Fantasy  [1995]  \n",
       "1                   Adventure|Children|Fantasy  [1995]  \n",
       "2                               Comedy|Romance  [1995]  "
      ]
     },
     "execution_count": 9,
     "metadata": {},
     "output_type": "execute_result"
    }
   ],
   "source": [
    "movies.head(3)"
   ]
  },
  {
   "cell_type": "code",
   "execution_count": 10,
   "metadata": {
    "scrolled": true
   },
   "outputs": [
    {
     "data": {
      "text/html": [
       "<div>\n",
       "<style scoped>\n",
       "    .dataframe tbody tr th:only-of-type {\n",
       "        vertical-align: middle;\n",
       "    }\n",
       "\n",
       "    .dataframe tbody tr th {\n",
       "        vertical-align: top;\n",
       "    }\n",
       "\n",
       "    .dataframe thead th {\n",
       "        text-align: right;\n",
       "    }\n",
       "</style>\n",
       "<table border=\"1\" class=\"dataframe\">\n",
       "  <thead>\n",
       "    <tr style=\"text-align: right;\">\n",
       "      <th></th>\n",
       "      <th>movieId</th>\n",
       "      <th>title</th>\n",
       "      <th>genres</th>\n",
       "      <th>year</th>\n",
       "    </tr>\n",
       "  </thead>\n",
       "  <tbody>\n",
       "    <tr>\n",
       "      <th>872</th>\n",
       "      <td>889</td>\n",
       "      <td>1-900 (06) (1994)</td>\n",
       "      <td>Drama|Romance</td>\n",
       "      <td>[06, 1994]</td>\n",
       "    </tr>\n",
       "    <tr>\n",
       "      <th>13916</th>\n",
       "      <td>69757</td>\n",
       "      <td>(500) Days of Summer (2009)</td>\n",
       "      <td>Comedy|Drama|Romance</td>\n",
       "      <td>[500, 2009]</td>\n",
       "    </tr>\n",
       "    <tr>\n",
       "      <th>20580</th>\n",
       "      <td>100741</td>\n",
       "      <td>Sixtynine (69) (1969)</td>\n",
       "      <td>Drama</td>\n",
       "      <td>[69, 1969]</td>\n",
       "    </tr>\n",
       "  </tbody>\n",
       "</table>\n",
       "</div>"
      ],
      "text/plain": [
       "       movieId                        title                genres         year\n",
       "872        889            1-900 (06) (1994)         Drama|Romance   [06, 1994]\n",
       "13916    69757  (500) Days of Summer (2009)  Comedy|Drama|Romance  [500, 2009]\n",
       "20580   100741        Sixtynine (69) (1969)                 Drama   [69, 1969]"
      ]
     },
     "execution_count": 10,
     "metadata": {},
     "output_type": "execute_result"
    }
   ],
   "source": [
    "# filter the movies with number in the title\n",
    "movies[movies['year'].apply(lambda x: len(x)>1)]"
   ]
  },
  {
   "cell_type": "code",
   "execution_count": 11,
   "metadata": {},
   "outputs": [
    {
     "data": {
      "text/plain": [
       "[1994]"
      ]
     },
     "execution_count": 11,
     "metadata": {},
     "output_type": "execute_result"
    }
   ],
   "source": [
    "movies.at[872,'year']=[1994]\n",
    "movies.at[13916,'year']=[2009]\n",
    "movies.at[20580,'year']=[1969]\n",
    "\n",
    "movies.at[872,'year']"
   ]
  },
  {
   "cell_type": "code",
   "execution_count": 12,
   "metadata": {
    "scrolled": false
   },
   "outputs": [
    {
     "data": {
      "text/plain": [
       "movieId    0\n",
       "title      0\n",
       "genres     0\n",
       "year       0\n",
       "dtype: int64"
      ]
     },
     "execution_count": 12,
     "metadata": {},
     "output_type": "execute_result"
    }
   ],
   "source": [
    "# if it's a ongoing show or produced over multiple years, have the starting year as 'year' value\n",
    "\n",
    "movies.at[22368,'year']=2009\n",
    "movies.at[22669,'year']=2007\n",
    "movies.at[22679,'year']=1975\n",
    "\n",
    "# get rid of brackets and get unique values to validate\n",
    "movies['year']=movies['year'].str[0]\n",
    "\n",
    "movies=movies.dropna()\n",
    "movies.loc[movies.year.isna()].count()"
   ]
  },
  {
   "cell_type": "code",
   "execution_count": 13,
   "metadata": {
    "scrolled": true
   },
   "outputs": [
    {
     "data": {
      "text/html": [
       "<div>\n",
       "<style scoped>\n",
       "    .dataframe tbody tr th:only-of-type {\n",
       "        vertical-align: middle;\n",
       "    }\n",
       "\n",
       "    .dataframe tbody tr th {\n",
       "        vertical-align: top;\n",
       "    }\n",
       "\n",
       "    .dataframe thead th {\n",
       "        text-align: right;\n",
       "    }\n",
       "</style>\n",
       "<table border=\"1\" class=\"dataframe\">\n",
       "  <thead>\n",
       "    <tr style=\"text-align: right;\">\n",
       "      <th></th>\n",
       "      <th>movieId</th>\n",
       "      <th>title</th>\n",
       "      <th>genres</th>\n",
       "      <th>year</th>\n",
       "    </tr>\n",
       "  </thead>\n",
       "  <tbody>\n",
       "    <tr>\n",
       "      <th>0</th>\n",
       "      <td>1</td>\n",
       "      <td>Toy Story (1995)</td>\n",
       "      <td>Adventure|Animation|Children|Comedy|Fantasy</td>\n",
       "      <td>1995</td>\n",
       "    </tr>\n",
       "    <tr>\n",
       "      <th>1</th>\n",
       "      <td>2</td>\n",
       "      <td>Jumanji (1995)</td>\n",
       "      <td>Adventure|Children|Fantasy</td>\n",
       "      <td>1995</td>\n",
       "    </tr>\n",
       "    <tr>\n",
       "      <th>2</th>\n",
       "      <td>3</td>\n",
       "      <td>Grumpier Old Men (1995)</td>\n",
       "      <td>Comedy|Romance</td>\n",
       "      <td>1995</td>\n",
       "    </tr>\n",
       "    <tr>\n",
       "      <th>3</th>\n",
       "      <td>4</td>\n",
       "      <td>Waiting to Exhale (1995)</td>\n",
       "      <td>Comedy|Drama|Romance</td>\n",
       "      <td>1995</td>\n",
       "    </tr>\n",
       "    <tr>\n",
       "      <th>4</th>\n",
       "      <td>5</td>\n",
       "      <td>Father of the Bride Part II (1995)</td>\n",
       "      <td>Comedy</td>\n",
       "      <td>1995</td>\n",
       "    </tr>\n",
       "  </tbody>\n",
       "</table>\n",
       "</div>"
      ],
      "text/plain": [
       "   movieId                               title  \\\n",
       "0        1                    Toy Story (1995)   \n",
       "1        2                      Jumanji (1995)   \n",
       "2        3             Grumpier Old Men (1995)   \n",
       "3        4            Waiting to Exhale (1995)   \n",
       "4        5  Father of the Bride Part II (1995)   \n",
       "\n",
       "                                        genres  year  \n",
       "0  Adventure|Animation|Children|Comedy|Fantasy  1995  \n",
       "1                   Adventure|Children|Fantasy  1995  \n",
       "2                               Comedy|Romance  1995  \n",
       "3                         Comedy|Drama|Romance  1995  \n",
       "4                                       Comedy  1995  "
      ]
     },
     "execution_count": 13,
     "metadata": {},
     "output_type": "execute_result"
    }
   ],
   "source": [
    "movies.head()"
   ]
  },
  {
   "cell_type": "code",
   "execution_count": 14,
   "metadata": {},
   "outputs": [
    {
     "data": {
      "text/plain": [
       "movieId     int64\n",
       "title      object\n",
       "genres     object\n",
       "year        int64\n",
       "dtype: object"
      ]
     },
     "execution_count": 14,
     "metadata": {},
     "output_type": "execute_result"
    }
   ],
   "source": [
    "# change year col to int\n",
    "movies['year']=pd.to_numeric(movies['year'])\n",
    "movies.dtypes"
   ]
  },
  {
   "cell_type": "markdown",
   "metadata": {},
   "source": [
    "### Create 'Genres' columns"
   ]
  },
  {
   "cell_type": "code",
   "execution_count": 15,
   "metadata": {
    "scrolled": true
   },
   "outputs": [
    {
     "data": {
      "text/plain": [
       "0    [Adventure, Animation, Children, Comedy, Fantasy]\n",
       "1                       [Adventure, Children, Fantasy]\n",
       "2                                    [Comedy, Romance]\n",
       "Name: genres, dtype: object"
      ]
     },
     "execution_count": 15,
     "metadata": {},
     "output_type": "execute_result"
    }
   ],
   "source": [
    "movies['genres']=movies.genres.str.split('|')\n",
    "\n",
    "movies['genres'].head(3)"
   ]
  },
  {
   "cell_type": "code",
   "execution_count": 16,
   "metadata": {},
   "outputs": [
    {
     "name": "stdout",
     "output_type": "stream",
     "text": [
      "There are 20 unique genres in the dataset.\n"
     ]
    }
   ],
   "source": [
    "genres=movies['genres']\n",
    "\n",
    "unique_genres=[]\n",
    "\n",
    "for genre in genres:\n",
    "    for i in genre:\n",
    "        if i not in unique_genres:\n",
    "            unique_genres.append(i)\n",
    "            \n",
    "print('There are {} unique genres in the dataset.'.format(len(unique_genres)))"
   ]
  },
  {
   "cell_type": "code",
   "execution_count": 17,
   "metadata": {},
   "outputs": [
    {
     "data": {
      "text/html": [
       "<div>\n",
       "<style scoped>\n",
       "    .dataframe tbody tr th:only-of-type {\n",
       "        vertical-align: middle;\n",
       "    }\n",
       "\n",
       "    .dataframe tbody tr th {\n",
       "        vertical-align: top;\n",
       "    }\n",
       "\n",
       "    .dataframe thead th {\n",
       "        text-align: right;\n",
       "    }\n",
       "</style>\n",
       "<table border=\"1\" class=\"dataframe\">\n",
       "  <thead>\n",
       "    <tr style=\"text-align: right;\">\n",
       "      <th></th>\n",
       "      <th>movieId</th>\n",
       "      <th>title</th>\n",
       "      <th>genres</th>\n",
       "      <th>year</th>\n",
       "    </tr>\n",
       "  </thead>\n",
       "  <tbody>\n",
       "    <tr>\n",
       "      <th>0</th>\n",
       "      <td>1</td>\n",
       "      <td>Toy Story (1995)</td>\n",
       "      <td>[Adventure, Animation, Children, Comedy, Fantasy]</td>\n",
       "      <td>1995</td>\n",
       "    </tr>\n",
       "    <tr>\n",
       "      <th>1</th>\n",
       "      <td>2</td>\n",
       "      <td>Jumanji (1995)</td>\n",
       "      <td>[Adventure, Children, Fantasy]</td>\n",
       "      <td>1995</td>\n",
       "    </tr>\n",
       "    <tr>\n",
       "      <th>2</th>\n",
       "      <td>3</td>\n",
       "      <td>Grumpier Old Men (1995)</td>\n",
       "      <td>[Comedy, Romance]</td>\n",
       "      <td>1995</td>\n",
       "    </tr>\n",
       "  </tbody>\n",
       "</table>\n",
       "</div>"
      ],
      "text/plain": [
       "   movieId                    title  \\\n",
       "0        1         Toy Story (1995)   \n",
       "1        2           Jumanji (1995)   \n",
       "2        3  Grumpier Old Men (1995)   \n",
       "\n",
       "                                              genres  year  \n",
       "0  [Adventure, Animation, Children, Comedy, Fantasy]  1995  \n",
       "1                     [Adventure, Children, Fantasy]  1995  \n",
       "2                                  [Comedy, Romance]  1995  "
      ]
     },
     "execution_count": 17,
     "metadata": {},
     "output_type": "execute_result"
    }
   ],
   "source": [
    "movies.head(3)"
   ]
  },
  {
   "cell_type": "code",
   "execution_count": 18,
   "metadata": {},
   "outputs": [],
   "source": [
    "# convert genre lists to feature using CountVectorizer\n",
    "\n",
    "from sklearn.feature_extraction.text import CountVectorizer"
   ]
  },
  {
   "cell_type": "code",
   "execution_count": 19,
   "metadata": {},
   "outputs": [],
   "source": [
    "# convert list to strings\n",
    "genres = genres.apply(\", \".join)\n",
    "\n",
    "# fit and apply vectorizer\n",
    "cv=CountVectorizer()\n",
    "genres_cv = cv.fit_transform(genres)"
   ]
  },
  {
   "cell_type": "code",
   "execution_count": 20,
   "metadata": {},
   "outputs": [
    {
     "data": {
      "text/plain": [
       "Index(['action', 'adventure', 'animation', 'children', 'comedy', 'crime',\n",
       "       'documentary', 'drama', 'fantasy', 'fi', 'film', 'genres', 'horror',\n",
       "       'imax', 'listed', 'musical', 'mystery', 'no', 'noir', 'romance', 'sci',\n",
       "       'thriller', 'war', 'western'],\n",
       "      dtype='object')"
      ]
     },
     "execution_count": 20,
     "metadata": {},
     "output_type": "execute_result"
    }
   ],
   "source": [
    "genres_df = pd.DataFrame(genres_cv.toarray(), columns=cv.get_feature_names())\n",
    "\n",
    "genres_df.columns"
   ]
  },
  {
   "cell_type": "markdown",
   "metadata": {},
   "source": [
    "We see that the vectorizer divided each word of 'Sci-Fi', 'Film-Noir', and 'No Genres'. We will get rid of redundant columns and rename the remaining ones."
   ]
  },
  {
   "cell_type": "code",
   "execution_count": 21,
   "metadata": {
    "scrolled": true
   },
   "outputs": [
    {
     "name": "stdout",
     "output_type": "stream",
     "text": [
      "fi     1741\n",
      "sci    1741\n",
      "dtype: int64\n",
      "film    330\n",
      "noir    330\n",
      "dtype: int64\n",
      "imax    196\n",
      "dtype: int64\n"
     ]
    }
   ],
   "source": [
    "# 'fi', 'film', 'genres', 'listed','no', 'noir', 'sci' \n",
    "# -->  'Sci-Fi', 'IMAX', 'Film-Noir', 'No Genres'\n",
    "      \n",
    "# validate that they are redundant.\n",
    "print (genres_df.loc[genres_df.fi==1][['fi','sci']].sum())\n",
    "print (genres_df.loc[genres_df.noir==1][['film','noir']].sum())\n",
    "print (genres_df.loc[genres_df.imax==1][['imax']].sum())"
   ]
  },
  {
   "cell_type": "code",
   "execution_count": 22,
   "metadata": {},
   "outputs": [],
   "source": [
    "drop_cols = ['fi', 'film', 'genres', 'listed',]\n",
    "genres_df=genres_df.drop(drop_cols, axis=1)\n",
    "\n",
    "#rename remaining columns\n",
    "genres_df=genres_df.rename(columns={'no':'no_genre', 'noir':'film_noir', 'sci':'sci_fi'})"
   ]
  },
  {
   "cell_type": "code",
   "execution_count": 22,
   "metadata": {},
   "outputs": [
    {
     "name": "stdout",
     "output_type": "stream",
     "text": [
      "(27256, 20)\n",
      "(27256, 4)\n"
     ]
    },
    {
     "data": {
      "text/html": [
       "<div>\n",
       "<style scoped>\n",
       "    .dataframe tbody tr th:only-of-type {\n",
       "        vertical-align: middle;\n",
       "    }\n",
       "\n",
       "    .dataframe tbody tr th {\n",
       "        vertical-align: top;\n",
       "    }\n",
       "\n",
       "    .dataframe thead th {\n",
       "        text-align: right;\n",
       "    }\n",
       "</style>\n",
       "<table border=\"1\" class=\"dataframe\">\n",
       "  <thead>\n",
       "    <tr style=\"text-align: right;\">\n",
       "      <th></th>\n",
       "      <th>action</th>\n",
       "      <th>adventure</th>\n",
       "      <th>animation</th>\n",
       "      <th>children</th>\n",
       "      <th>comedy</th>\n",
       "      <th>crime</th>\n",
       "      <th>documentary</th>\n",
       "      <th>drama</th>\n",
       "      <th>fantasy</th>\n",
       "      <th>horror</th>\n",
       "      <th>imax</th>\n",
       "      <th>musical</th>\n",
       "      <th>mystery</th>\n",
       "      <th>no_genre</th>\n",
       "      <th>film_noir</th>\n",
       "      <th>romance</th>\n",
       "      <th>sci_fi</th>\n",
       "      <th>thriller</th>\n",
       "      <th>war</th>\n",
       "      <th>western</th>\n",
       "    </tr>\n",
       "  </thead>\n",
       "  <tbody>\n",
       "    <tr>\n",
       "      <th>27253</th>\n",
       "      <td>0</td>\n",
       "      <td>1</td>\n",
       "      <td>0</td>\n",
       "      <td>0</td>\n",
       "      <td>0</td>\n",
       "      <td>0</td>\n",
       "      <td>0</td>\n",
       "      <td>0</td>\n",
       "      <td>0</td>\n",
       "      <td>0</td>\n",
       "      <td>0</td>\n",
       "      <td>0</td>\n",
       "      <td>0</td>\n",
       "      <td>0</td>\n",
       "      <td>0</td>\n",
       "      <td>0</td>\n",
       "      <td>0</td>\n",
       "      <td>0</td>\n",
       "      <td>0</td>\n",
       "      <td>0</td>\n",
       "    </tr>\n",
       "    <tr>\n",
       "      <th>27254</th>\n",
       "      <td>0</td>\n",
       "      <td>0</td>\n",
       "      <td>0</td>\n",
       "      <td>0</td>\n",
       "      <td>0</td>\n",
       "      <td>0</td>\n",
       "      <td>0</td>\n",
       "      <td>0</td>\n",
       "      <td>0</td>\n",
       "      <td>0</td>\n",
       "      <td>0</td>\n",
       "      <td>0</td>\n",
       "      <td>0</td>\n",
       "      <td>1</td>\n",
       "      <td>0</td>\n",
       "      <td>0</td>\n",
       "      <td>0</td>\n",
       "      <td>0</td>\n",
       "      <td>0</td>\n",
       "      <td>0</td>\n",
       "    </tr>\n",
       "    <tr>\n",
       "      <th>27255</th>\n",
       "      <td>0</td>\n",
       "      <td>1</td>\n",
       "      <td>0</td>\n",
       "      <td>0</td>\n",
       "      <td>0</td>\n",
       "      <td>0</td>\n",
       "      <td>0</td>\n",
       "      <td>0</td>\n",
       "      <td>1</td>\n",
       "      <td>1</td>\n",
       "      <td>0</td>\n",
       "      <td>0</td>\n",
       "      <td>0</td>\n",
       "      <td>0</td>\n",
       "      <td>0</td>\n",
       "      <td>0</td>\n",
       "      <td>0</td>\n",
       "      <td>0</td>\n",
       "      <td>0</td>\n",
       "      <td>0</td>\n",
       "    </tr>\n",
       "  </tbody>\n",
       "</table>\n",
       "</div>"
      ],
      "text/plain": [
       "       action  adventure  animation  children  comedy  crime  documentary  \\\n",
       "27253       0          1          0         0       0      0            0   \n",
       "27254       0          0          0         0       0      0            0   \n",
       "27255       0          1          0         0       0      0            0   \n",
       "\n",
       "       drama  fantasy  horror  imax  musical  mystery  no_genre  film_noir  \\\n",
       "27253      0        0       0     0        0        0         0          0   \n",
       "27254      0        0       0     0        0        0         1          0   \n",
       "27255      0        1       1     0        0        0         0          0   \n",
       "\n",
       "       romance  sci_fi  thriller  war  western  \n",
       "27253        0       0         0    0        0  \n",
       "27254        0       0         0    0        0  \n",
       "27255        0       0         0    0        0  "
      ]
     },
     "execution_count": 22,
     "metadata": {},
     "output_type": "execute_result"
    }
   ],
   "source": [
    "print(genres_df.shape)\n",
    "print(movies.shape)\n",
    "genres_df.tail(3)"
   ]
  },
  {
   "cell_type": "code",
   "execution_count": 23,
   "metadata": {},
   "outputs": [],
   "source": [
    "# reset movies table since we dropped some NaN rows.\n",
    "movies=movies.reset_index(drop=True)\n",
    "\n",
    "# merge two datasets.\n",
    "movies=pd.concat([movies, genres_df], axis=1)\n",
    "movies=movies.drop('genres',axis=1)"
   ]
  },
  {
   "cell_type": "code",
   "execution_count": 24,
   "metadata": {
    "scrolled": true
   },
   "outputs": [
    {
     "data": {
      "text/html": [
       "<div>\n",
       "<style scoped>\n",
       "    .dataframe tbody tr th:only-of-type {\n",
       "        vertical-align: middle;\n",
       "    }\n",
       "\n",
       "    .dataframe tbody tr th {\n",
       "        vertical-align: top;\n",
       "    }\n",
       "\n",
       "    .dataframe thead th {\n",
       "        text-align: right;\n",
       "    }\n",
       "</style>\n",
       "<table border=\"1\" class=\"dataframe\">\n",
       "  <thead>\n",
       "    <tr style=\"text-align: right;\">\n",
       "      <th></th>\n",
       "      <th>movieId</th>\n",
       "      <th>title</th>\n",
       "      <th>year</th>\n",
       "      <th>action</th>\n",
       "      <th>adventure</th>\n",
       "      <th>animation</th>\n",
       "      <th>children</th>\n",
       "      <th>comedy</th>\n",
       "      <th>crime</th>\n",
       "      <th>documentary</th>\n",
       "      <th>...</th>\n",
       "      <th>imax</th>\n",
       "      <th>musical</th>\n",
       "      <th>mystery</th>\n",
       "      <th>no_genre</th>\n",
       "      <th>film_noir</th>\n",
       "      <th>romance</th>\n",
       "      <th>sci_fi</th>\n",
       "      <th>thriller</th>\n",
       "      <th>war</th>\n",
       "      <th>western</th>\n",
       "    </tr>\n",
       "  </thead>\n",
       "  <tbody>\n",
       "    <tr>\n",
       "      <th>27253</th>\n",
       "      <td>131258</td>\n",
       "      <td>The Pirates (2014)</td>\n",
       "      <td>2014</td>\n",
       "      <td>0</td>\n",
       "      <td>1</td>\n",
       "      <td>0</td>\n",
       "      <td>0</td>\n",
       "      <td>0</td>\n",
       "      <td>0</td>\n",
       "      <td>0</td>\n",
       "      <td>...</td>\n",
       "      <td>0</td>\n",
       "      <td>0</td>\n",
       "      <td>0</td>\n",
       "      <td>0</td>\n",
       "      <td>0</td>\n",
       "      <td>0</td>\n",
       "      <td>0</td>\n",
       "      <td>0</td>\n",
       "      <td>0</td>\n",
       "      <td>0</td>\n",
       "    </tr>\n",
       "    <tr>\n",
       "      <th>27254</th>\n",
       "      <td>131260</td>\n",
       "      <td>Rentun Ruusu (2001)</td>\n",
       "      <td>2001</td>\n",
       "      <td>0</td>\n",
       "      <td>0</td>\n",
       "      <td>0</td>\n",
       "      <td>0</td>\n",
       "      <td>0</td>\n",
       "      <td>0</td>\n",
       "      <td>0</td>\n",
       "      <td>...</td>\n",
       "      <td>0</td>\n",
       "      <td>0</td>\n",
       "      <td>0</td>\n",
       "      <td>1</td>\n",
       "      <td>0</td>\n",
       "      <td>0</td>\n",
       "      <td>0</td>\n",
       "      <td>0</td>\n",
       "      <td>0</td>\n",
       "      <td>0</td>\n",
       "    </tr>\n",
       "    <tr>\n",
       "      <th>27255</th>\n",
       "      <td>131262</td>\n",
       "      <td>Innocence (2014)</td>\n",
       "      <td>2014</td>\n",
       "      <td>0</td>\n",
       "      <td>1</td>\n",
       "      <td>0</td>\n",
       "      <td>0</td>\n",
       "      <td>0</td>\n",
       "      <td>0</td>\n",
       "      <td>0</td>\n",
       "      <td>...</td>\n",
       "      <td>0</td>\n",
       "      <td>0</td>\n",
       "      <td>0</td>\n",
       "      <td>0</td>\n",
       "      <td>0</td>\n",
       "      <td>0</td>\n",
       "      <td>0</td>\n",
       "      <td>0</td>\n",
       "      <td>0</td>\n",
       "      <td>0</td>\n",
       "    </tr>\n",
       "  </tbody>\n",
       "</table>\n",
       "<p>3 rows × 23 columns</p>\n",
       "</div>"
      ],
      "text/plain": [
       "       movieId                title  year  action  adventure  animation  \\\n",
       "27253   131258   The Pirates (2014)  2014       0          1          0   \n",
       "27254   131260  Rentun Ruusu (2001)  2001       0          0          0   \n",
       "27255   131262     Innocence (2014)  2014       0          1          0   \n",
       "\n",
       "       children  comedy  crime  documentary   ...     imax  musical  mystery  \\\n",
       "27253         0       0      0            0   ...        0        0        0   \n",
       "27254         0       0      0            0   ...        0        0        0   \n",
       "27255         0       0      0            0   ...        0        0        0   \n",
       "\n",
       "       no_genre  film_noir  romance  sci_fi  thriller  war  western  \n",
       "27253         0          0        0       0         0    0        0  \n",
       "27254         1          0        0       0         0    0        0  \n",
       "27255         0          0        0       0         0    0        0  \n",
       "\n",
       "[3 rows x 23 columns]"
      ]
     },
     "execution_count": 24,
     "metadata": {},
     "output_type": "execute_result"
    }
   ],
   "source": [
    "movies.tail(3)"
   ]
  },
  {
   "cell_type": "code",
   "execution_count": 25,
   "metadata": {},
   "outputs": [
    {
     "name": "stdout",
     "output_type": "stream",
     "text": [
      "[(('Drama', 'Drama'), 929), (('Comedy', 'Drama'), 360), (('Drama', 'Comedy'), 354), (('Drama', 'Documentary'), 337), (('Documentary', 'Documentary'), 323), (('Comedy', 'Comedy'), 321), (('Documentary', 'Drama'), 302), (('Comedy, Drama', 'Drama'), 238), (('Drama', 'Comedy, Drama'), 219), (('Drama', 'Drama, Romance'), 198), (('Drama, Romance', 'Drama'), 184), (('Documentary', 'Comedy'), 141), (('Comedy', 'Documentary'), 135), (('Comedy, Romance', 'Drama'), 130), (('Drama', 'Comedy, Romance'), 123), (('Drama', 'Comedy, Drama, Romance'), 112), (('Comedy', 'Comedy, Drama'), 112), (('Comedy, Drama', 'Documentary'), 99), (('Comedy, Drama', 'Comedy'), 99), (('Documentary', 'Comedy, Drama'), 99)]\n"
     ]
    }
   ],
   "source": [
    "from collections import Counter\n",
    "## Just out of curiosity, I want to see the most common pairs\n",
    "\n",
    "bigrams = zip(genres, genres[1:])\n",
    "counts = Counter(bigrams)\n",
    "print(counts.most_common()[:20])"
   ]
  },
  {
   "cell_type": "markdown",
   "metadata": {},
   "source": [
    "The most common pairs are:\n",
    "- Drama + Comedy\n",
    "- Drama + Documentary\n",
    "- Drama+ Romance\n",
    "- Comedy + Documentary\n",
    "- Comedy + Romance\n",
    "\n",
    "### Visualization\n",
    "\n",
    "#### Count of movies made per year"
   ]
  },
  {
   "cell_type": "code",
   "execution_count": 25,
   "metadata": {},
   "outputs": [],
   "source": [
    "year_desc=movies.year.value_counts()\n",
    "year_desc=year_desc.sort_index(ascending=False)"
   ]
  },
  {
   "cell_type": "code",
   "execution_count": 26,
   "metadata": {},
   "outputs": [
    {
     "data": {
      "image/png": "[encoded data removed]",
      "text/plain": [
       "<Figure size 720x360 with 1 Axes>"
      ]
     },
     "metadata": {
      "needs_background": "light"
     },
     "output_type": "display_data"
    }
   ],
   "source": [
    "plt.figure(figsize=(10, 5))\n",
    "year_desc.head(30).plot(kind='bar')\n",
    "plt.title('Movies Counts per Year (30 yrs)')\n",
    "\n",
    "plt.xticks(rotation=60)\n",
    "plt.subplots_adjust(bottom=0.15)\n",
    "plt.tight_layout(h_pad=1.0)\n",
    "plt.show()"
   ]
  },
  {
   "cell_type": "markdown",
   "metadata": {},
   "source": [
    "#### Count of movies per genre"
   ]
  },
  {
   "cell_type": "code",
   "execution_count": 28,
   "metadata": {},
   "outputs": [
    {
     "data": {
      "text/plain": [
       "Text(0.5, 1.0, 'Movies Counts per Genre')"
      ]
     },
     "execution_count": 28,
     "metadata": {},
     "output_type": "execute_result"
    },
    {
     "data": {
      "image/png": "[encoded data removed]",
      "text/plain": [
       "<Figure size 720x360 with 1 Axes>"
      ]
     },
     "metadata": {
      "needs_background": "light"
     },
     "output_type": "display_data"
    }
   ],
   "source": [
    "plt.figure(figsize=(10, 5))\n",
    "genres_df.sum().sort_values(ascending=False).plot(kind='bar')\n",
    "plt.title('Movies Counts per Genre')"
   ]
  },
  {
   "cell_type": "markdown",
   "metadata": {},
   "source": [
    "#### See if there are correlations among movie genres"
   ]
  },
  {
   "cell_type": "code",
   "execution_count": 32,
   "metadata": {
    "scrolled": true
   },
   "outputs": [
    {
     "data": {
      "text/plain": [
       "<matplotlib.axes._subplots.AxesSubplot at 0x1a1cb85400>"
      ]
     },
     "execution_count": 32,
     "metadata": {},
     "output_type": "execute_result"
    },
    {
     "data": {
      "image/png": "[encoded data removed]",
      "text/plain": [
       "<Figure size 432x288 with 2 Axes>"
      ]
     },
     "metadata": {
      "needs_background": "light"
     },
     "output_type": "display_data"
    }
   ],
   "source": [
    "sns.heatmap(genres_df.corr(), cmap=\"YlGnBu\")"
   ]
  },
  {
   "cell_type": "markdown",
   "metadata": {},
   "source": [
    "## Movie tags\n",
    "\n",
    "### Explore the tags \n",
    "\n",
    "Hypothesis: There are some redundant tags that I can get rid of. I will be validating the hypothesis using corr() function."
   ]
  },
  {
   "cell_type": "code",
   "execution_count": 26,
   "metadata": {
    "scrolled": true
   },
   "outputs": [
    {
     "name": "stdout",
     "output_type": "stream",
     "text": [
      "(1128, 2)\n"
     ]
    },
    {
     "data": {
      "text/html": [
       "<div>\n",
       "<style scoped>\n",
       "    .dataframe tbody tr th:only-of-type {\n",
       "        vertical-align: middle;\n",
       "    }\n",
       "\n",
       "    .dataframe tbody tr th {\n",
       "        vertical-align: top;\n",
       "    }\n",
       "\n",
       "    .dataframe thead th {\n",
       "        text-align: right;\n",
       "    }\n",
       "</style>\n",
       "<table border=\"1\" class=\"dataframe\">\n",
       "  <thead>\n",
       "    <tr style=\"text-align: right;\">\n",
       "      <th></th>\n",
       "      <th>tagId</th>\n",
       "      <th>tag</th>\n",
       "    </tr>\n",
       "  </thead>\n",
       "  <tbody>\n",
       "    <tr>\n",
       "      <th>0</th>\n",
       "      <td>1</td>\n",
       "      <td>007</td>\n",
       "    </tr>\n",
       "    <tr>\n",
       "      <th>1</th>\n",
       "      <td>2</td>\n",
       "      <td>007 (series)</td>\n",
       "    </tr>\n",
       "    <tr>\n",
       "      <th>2</th>\n",
       "      <td>3</td>\n",
       "      <td>18th century</td>\n",
       "    </tr>\n",
       "    <tr>\n",
       "      <th>3</th>\n",
       "      <td>4</td>\n",
       "      <td>1920s</td>\n",
       "    </tr>\n",
       "    <tr>\n",
       "      <th>4</th>\n",
       "      <td>5</td>\n",
       "      <td>1930s</td>\n",
       "    </tr>\n",
       "  </tbody>\n",
       "</table>\n",
       "</div>"
      ],
      "text/plain": [
       "   tagId           tag\n",
       "0      1           007\n",
       "1      2  007 (series)\n",
       "2      3  18th century\n",
       "3      4         1920s\n",
       "4      5         1930s"
      ]
     },
     "execution_count": 26,
     "metadata": {},
     "output_type": "execute_result"
    }
   ],
   "source": [
    "print(genomeTags.shape)\n",
    "genomeTags.head(5)"
   ]
  },
  {
   "cell_type": "code",
   "execution_count": 26,
   "metadata": {},
   "outputs": [],
   "source": [
    "tag_tb=pd.pivot_table(genomeScores, values='relevance', columns='tagId', index='movieId').fillna(0)"
   ]
  },
  {
   "cell_type": "code",
   "execution_count": 28,
   "metadata": {},
   "outputs": [
    {
     "data": {
      "text/html": [
       "<div>\n",
       "<style scoped>\n",
       "    .dataframe tbody tr th:only-of-type {\n",
       "        vertical-align: middle;\n",
       "    }\n",
       "\n",
       "    .dataframe tbody tr th {\n",
       "        vertical-align: top;\n",
       "    }\n",
       "\n",
       "    .dataframe thead th {\n",
       "        text-align: right;\n",
       "    }\n",
       "</style>\n",
       "<table border=\"1\" class=\"dataframe\">\n",
       "  <thead>\n",
       "    <tr style=\"text-align: right;\">\n",
       "      <th>tagId</th>\n",
       "      <th>1</th>\n",
       "      <th>2</th>\n",
       "      <th>3</th>\n",
       "      <th>4</th>\n",
       "      <th>5</th>\n",
       "      <th>6</th>\n",
       "      <th>7</th>\n",
       "      <th>8</th>\n",
       "      <th>9</th>\n",
       "      <th>10</th>\n",
       "      <th>...</th>\n",
       "      <th>1119</th>\n",
       "      <th>1120</th>\n",
       "      <th>1121</th>\n",
       "      <th>1122</th>\n",
       "      <th>1123</th>\n",
       "      <th>1124</th>\n",
       "      <th>1125</th>\n",
       "      <th>1126</th>\n",
       "      <th>1127</th>\n",
       "      <th>1128</th>\n",
       "    </tr>\n",
       "    <tr>\n",
       "      <th>movieId</th>\n",
       "      <th></th>\n",
       "      <th></th>\n",
       "      <th></th>\n",
       "      <th></th>\n",
       "      <th></th>\n",
       "      <th></th>\n",
       "      <th></th>\n",
       "      <th></th>\n",
       "      <th></th>\n",
       "      <th></th>\n",
       "      <th></th>\n",
       "      <th></th>\n",
       "      <th></th>\n",
       "      <th></th>\n",
       "      <th></th>\n",
       "      <th></th>\n",
       "      <th></th>\n",
       "      <th></th>\n",
       "      <th></th>\n",
       "      <th></th>\n",
       "      <th></th>\n",
       "    </tr>\n",
       "  </thead>\n",
       "  <tbody>\n",
       "    <tr>\n",
       "      <th>1</th>\n",
       "      <td>0.02500</td>\n",
       "      <td>0.02500</td>\n",
       "      <td>0.05775</td>\n",
       "      <td>0.09675</td>\n",
       "      <td>0.14675</td>\n",
       "      <td>0.21700</td>\n",
       "      <td>0.06700</td>\n",
       "      <td>0.26275</td>\n",
       "      <td>0.26200</td>\n",
       "      <td>0.03200</td>\n",
       "      <td>...</td>\n",
       "      <td>0.03950</td>\n",
       "      <td>0.01800</td>\n",
       "      <td>0.04575</td>\n",
       "      <td>0.03275</td>\n",
       "      <td>0.12500</td>\n",
       "      <td>0.04150</td>\n",
       "      <td>0.01925</td>\n",
       "      <td>0.03625</td>\n",
       "      <td>0.07775</td>\n",
       "      <td>0.02300</td>\n",
       "    </tr>\n",
       "    <tr>\n",
       "      <th>2</th>\n",
       "      <td>0.03975</td>\n",
       "      <td>0.04375</td>\n",
       "      <td>0.03775</td>\n",
       "      <td>0.04800</td>\n",
       "      <td>0.11025</td>\n",
       "      <td>0.07250</td>\n",
       "      <td>0.04775</td>\n",
       "      <td>0.10975</td>\n",
       "      <td>0.09925</td>\n",
       "      <td>0.02050</td>\n",
       "      <td>...</td>\n",
       "      <td>0.04175</td>\n",
       "      <td>0.01925</td>\n",
       "      <td>0.01725</td>\n",
       "      <td>0.02425</td>\n",
       "      <td>0.12550</td>\n",
       "      <td>0.02250</td>\n",
       "      <td>0.01550</td>\n",
       "      <td>0.01475</td>\n",
       "      <td>0.09025</td>\n",
       "      <td>0.01875</td>\n",
       "    </tr>\n",
       "    <tr>\n",
       "      <th>3</th>\n",
       "      <td>0.04350</td>\n",
       "      <td>0.05475</td>\n",
       "      <td>0.02800</td>\n",
       "      <td>0.07700</td>\n",
       "      <td>0.05400</td>\n",
       "      <td>0.06850</td>\n",
       "      <td>0.05600</td>\n",
       "      <td>0.18500</td>\n",
       "      <td>0.04925</td>\n",
       "      <td>0.02675</td>\n",
       "      <td>...</td>\n",
       "      <td>0.04150</td>\n",
       "      <td>0.02675</td>\n",
       "      <td>0.02775</td>\n",
       "      <td>0.03425</td>\n",
       "      <td>0.15550</td>\n",
       "      <td>0.03675</td>\n",
       "      <td>0.01700</td>\n",
       "      <td>0.01950</td>\n",
       "      <td>0.09700</td>\n",
       "      <td>0.01850</td>\n",
       "    </tr>\n",
       "    <tr>\n",
       "      <th>4</th>\n",
       "      <td>0.03725</td>\n",
       "      <td>0.03950</td>\n",
       "      <td>0.03675</td>\n",
       "      <td>0.03100</td>\n",
       "      <td>0.06825</td>\n",
       "      <td>0.04050</td>\n",
       "      <td>0.02325</td>\n",
       "      <td>0.08700</td>\n",
       "      <td>0.05125</td>\n",
       "      <td>0.03025</td>\n",
       "      <td>...</td>\n",
       "      <td>0.05750</td>\n",
       "      <td>0.03375</td>\n",
       "      <td>0.02275</td>\n",
       "      <td>0.03975</td>\n",
       "      <td>0.18525</td>\n",
       "      <td>0.05925</td>\n",
       "      <td>0.01500</td>\n",
       "      <td>0.01525</td>\n",
       "      <td>0.06450</td>\n",
       "      <td>0.01300</td>\n",
       "    </tr>\n",
       "    <tr>\n",
       "      <th>5</th>\n",
       "      <td>0.04200</td>\n",
       "      <td>0.05275</td>\n",
       "      <td>0.05925</td>\n",
       "      <td>0.03675</td>\n",
       "      <td>0.07525</td>\n",
       "      <td>0.12525</td>\n",
       "      <td>0.02850</td>\n",
       "      <td>0.08500</td>\n",
       "      <td>0.02950</td>\n",
       "      <td>0.02875</td>\n",
       "      <td>...</td>\n",
       "      <td>0.04250</td>\n",
       "      <td>0.02825</td>\n",
       "      <td>0.02150</td>\n",
       "      <td>0.02600</td>\n",
       "      <td>0.14275</td>\n",
       "      <td>0.02075</td>\n",
       "      <td>0.01650</td>\n",
       "      <td>0.01675</td>\n",
       "      <td>0.10750</td>\n",
       "      <td>0.01825</td>\n",
       "    </tr>\n",
       "  </tbody>\n",
       "</table>\n",
       "<p>5 rows × 1128 columns</p>\n",
       "</div>"
      ],
      "text/plain": [
       "tagId       1        2        3        4        5        6        7     \\\n",
       "movieId                                                                  \n",
       "1        0.02500  0.02500  0.05775  0.09675  0.14675  0.21700  0.06700   \n",
       "2        0.03975  0.04375  0.03775  0.04800  0.11025  0.07250  0.04775   \n",
       "3        0.04350  0.05475  0.02800  0.07700  0.05400  0.06850  0.05600   \n",
       "4        0.03725  0.03950  0.03675  0.03100  0.06825  0.04050  0.02325   \n",
       "5        0.04200  0.05275  0.05925  0.03675  0.07525  0.12525  0.02850   \n",
       "\n",
       "tagId       8        9        10     ...        1119     1120     1121  \\\n",
       "movieId                              ...                                 \n",
       "1        0.26275  0.26200  0.03200   ...     0.03950  0.01800  0.04575   \n",
       "2        0.10975  0.09925  0.02050   ...     0.04175  0.01925  0.01725   \n",
       "3        0.18500  0.04925  0.02675   ...     0.04150  0.02675  0.02775   \n",
       "4        0.08700  0.05125  0.03025   ...     0.05750  0.03375  0.02275   \n",
       "5        0.08500  0.02950  0.02875   ...     0.04250  0.02825  0.02150   \n",
       "\n",
       "tagId       1122     1123     1124     1125     1126     1127     1128  \n",
       "movieId                                                                 \n",
       "1        0.03275  0.12500  0.04150  0.01925  0.03625  0.07775  0.02300  \n",
       "2        0.02425  0.12550  0.02250  0.01550  0.01475  0.09025  0.01875  \n",
       "3        0.03425  0.15550  0.03675  0.01700  0.01950  0.09700  0.01850  \n",
       "4        0.03975  0.18525  0.05925  0.01500  0.01525  0.06450  0.01300  \n",
       "5        0.02600  0.14275  0.02075  0.01650  0.01675  0.10750  0.01825  \n",
       "\n",
       "[5 rows x 1128 columns]"
      ]
     },
     "execution_count": 28,
     "metadata": {},
     "output_type": "execute_result"
    }
   ],
   "source": [
    "tag_tb.head(5)"
   ]
  },
  {
   "cell_type": "code",
   "execution_count": 27,
   "metadata": {},
   "outputs": [
    {
     "name": "stdout",
     "output_type": "stream",
     "text": [
      "                    0\n",
      "tagId tagId          \n",
      "1     1      1.000000\n",
      "1069  1067   0.988379\n",
      "697   696    0.971320\n",
      "987   989    0.966490\n",
      "387   388    0.959679\n",
      "802   803    0.959079\n",
      "976   657    0.958654\n",
      "886   890    0.957107\n",
      "43    45     0.956546\n",
      "1121  1126   0.955694\n",
      "      tagId           tag\n",
      "1120   1121  world war ii\n",
      "      tagId   tag\n",
      "1125   1126  wwii\n"
     ]
    }
   ],
   "source": [
    "similar_tags=tag_tb.corr().abs()\n",
    "\n",
    "similar_tags_unstack=similar_tags.unstack()\n",
    "\n",
    "tags_sort = similar_tags_unstack.sort_values(kind=\"quicksort\")\n",
    "tags_sort = tags_sort.drop_duplicates()\n",
    "\n",
    "similar_tags=pd.DataFrame(tags_sort[tags_sort>0.80])\n",
    "\n",
    "print(similar_tags.sort_values(0,ascending=False).head(10))\n",
    "print(genomeTags.loc[genomeTags.tagId==1121])\n",
    "print(genomeTags.loc[genomeTags.tagId==1126])"
   ]
  },
  {
   "cell_type": "markdown",
   "metadata": {},
   "source": [
    "Proved! There are some tags that are redundant. I will be using PCA to reduce dimensions to make my model more robust."
   ]
  },
  {
   "cell_type": "markdown",
   "metadata": {},
   "source": [
    "### PCA to reduce dimensionality"
   ]
  },
  {
   "cell_type": "code",
   "execution_count": 28,
   "metadata": {},
   "outputs": [],
   "source": [
    "from sklearn.decomposition import PCA\n",
    "\n",
    "pca = PCA().fit(tag_tb)"
   ]
  },
  {
   "cell_type": "code",
   "execution_count": 31,
   "metadata": {},
   "outputs": [
    {
     "data": {
      "text/plain": [
       "<Figure size 720x360 with 0 Axes>"
      ]
     },
     "metadata": {},
     "output_type": "display_data"
    },
    {
     "data": {
      "image/png": "[encoded data removed]",
      "text/plain": [
       "<Figure size 432x288 with 1 Axes>"
      ]
     },
     "metadata": {
      "needs_background": "light"
     },
     "output_type": "display_data"
    }
   ],
   "source": [
    "#Plotting the Cumulative Summation of the Explained Variance\n",
    "plt.figure(figsize=(10, 5))\n",
    "plt.figure()\n",
    "plt.plot(np.cumsum(pca.explained_variance_ratio_))\n",
    "plt.xlabel('Number of Components')\n",
    "plt.ylabel('Variance (%)') #for each component\n",
    "plt.title('Pulsar Dataset Explained Variance')\n",
    "plt.show()"
   ]
  },
  {
   "cell_type": "markdown",
   "metadata": {},
   "source": [
    "Seems like I can explain about 80% of the variance using 100 components. That's a big win considering I am reducing the compenents by more than 90%. "
   ]
  },
  {
   "cell_type": "code",
   "execution_count": 29,
   "metadata": {},
   "outputs": [],
   "source": [
    "pca = PCA(n_components=100)\n",
    "tags_pca = pca.fit_transform(tag_tb)\n",
    "\n",
    "tags_pca = pd.DataFrame(tags_pca)"
   ]
  },
  {
   "cell_type": "code",
   "execution_count": 30,
   "metadata": {},
   "outputs": [
    {
     "name": "stdout",
     "output_type": "stream",
     "text": [
      "Total variance explained:  0.7792405592497735\n"
     ]
    }
   ],
   "source": [
    "print(\"Total variance explained: \",pca.explained_variance_ratio_.sum())"
   ]
  },
  {
   "cell_type": "code",
   "execution_count": 31,
   "metadata": {},
   "outputs": [
    {
     "data": {
      "text/plain": [
       "(100, 1128)"
      ]
     },
     "execution_count": 31,
     "metadata": {},
     "output_type": "execute_result"
    }
   ],
   "source": [
    "pca.components_.shape"
   ]
  },
  {
   "cell_type": "code",
   "execution_count": 32,
   "metadata": {
    "scrolled": true
   },
   "outputs": [
    {
     "data": {
      "text/html": [
       "<div>\n",
       "<style scoped>\n",
       "    .dataframe tbody tr th:only-of-type {\n",
       "        vertical-align: middle;\n",
       "    }\n",
       "\n",
       "    .dataframe tbody tr th {\n",
       "        vertical-align: top;\n",
       "    }\n",
       "\n",
       "    .dataframe thead th {\n",
       "        text-align: right;\n",
       "    }\n",
       "</style>\n",
       "<table border=\"1\" class=\"dataframe\">\n",
       "  <thead>\n",
       "    <tr style=\"text-align: right;\">\n",
       "      <th>tagId</th>\n",
       "      <th>1</th>\n",
       "      <th>2</th>\n",
       "      <th>3</th>\n",
       "      <th>4</th>\n",
       "      <th>5</th>\n",
       "      <th>6</th>\n",
       "      <th>7</th>\n",
       "      <th>8</th>\n",
       "      <th>9</th>\n",
       "      <th>10</th>\n",
       "      <th>...</th>\n",
       "      <th>1119</th>\n",
       "      <th>1120</th>\n",
       "      <th>1121</th>\n",
       "      <th>1122</th>\n",
       "      <th>1123</th>\n",
       "      <th>1124</th>\n",
       "      <th>1125</th>\n",
       "      <th>1126</th>\n",
       "      <th>1127</th>\n",
       "      <th>1128</th>\n",
       "    </tr>\n",
       "  </thead>\n",
       "  <tbody>\n",
       "    <tr>\n",
       "      <th>0</th>\n",
       "      <td>-0.005727</td>\n",
       "      <td>-0.004789</td>\n",
       "      <td>0.012467</td>\n",
       "      <td>0.022227</td>\n",
       "      <td>0.029100</td>\n",
       "      <td>0.026902</td>\n",
       "      <td>0.020764</td>\n",
       "      <td>0.047165</td>\n",
       "      <td>0.016108</td>\n",
       "      <td>0.017450</td>\n",
       "      <td>...</td>\n",
       "      <td>0.025489</td>\n",
       "      <td>0.012439</td>\n",
       "      <td>0.018284</td>\n",
       "      <td>0.020300</td>\n",
       "      <td>0.009469</td>\n",
       "      <td>0.017047</td>\n",
       "      <td>0.005094</td>\n",
       "      <td>0.017191</td>\n",
       "      <td>-0.010266</td>\n",
       "      <td>-0.001373</td>\n",
       "    </tr>\n",
       "    <tr>\n",
       "      <th>1</th>\n",
       "      <td>0.013838</td>\n",
       "      <td>0.010480</td>\n",
       "      <td>-0.002782</td>\n",
       "      <td>-0.005048</td>\n",
       "      <td>0.002582</td>\n",
       "      <td>0.006757</td>\n",
       "      <td>-0.001628</td>\n",
       "      <td>0.013072</td>\n",
       "      <td>0.031092</td>\n",
       "      <td>-0.003392</td>\n",
       "      <td>...</td>\n",
       "      <td>0.009218</td>\n",
       "      <td>-0.000254</td>\n",
       "      <td>0.003118</td>\n",
       "      <td>-0.015936</td>\n",
       "      <td>-0.015335</td>\n",
       "      <td>-0.003184</td>\n",
       "      <td>0.002533</td>\n",
       "      <td>0.005512</td>\n",
       "      <td>0.014174</td>\n",
       "      <td>0.005516</td>\n",
       "    </tr>\n",
       "    <tr>\n",
       "      <th>2</th>\n",
       "      <td>0.001246</td>\n",
       "      <td>0.002061</td>\n",
       "      <td>0.023933</td>\n",
       "      <td>0.015616</td>\n",
       "      <td>0.033837</td>\n",
       "      <td>0.021746</td>\n",
       "      <td>0.013943</td>\n",
       "      <td>0.011271</td>\n",
       "      <td>0.007539</td>\n",
       "      <td>0.019749</td>\n",
       "      <td>...</td>\n",
       "      <td>0.025336</td>\n",
       "      <td>0.018816</td>\n",
       "      <td>0.033670</td>\n",
       "      <td>-0.002630</td>\n",
       "      <td>-0.014346</td>\n",
       "      <td>0.002256</td>\n",
       "      <td>-0.005774</td>\n",
       "      <td>0.032529</td>\n",
       "      <td>-0.039958</td>\n",
       "      <td>-0.016344</td>\n",
       "    </tr>\n",
       "    <tr>\n",
       "      <th>3</th>\n",
       "      <td>-0.006460</td>\n",
       "      <td>-0.005260</td>\n",
       "      <td>0.014885</td>\n",
       "      <td>0.016244</td>\n",
       "      <td>-0.009169</td>\n",
       "      <td>0.006098</td>\n",
       "      <td>-0.004958</td>\n",
       "      <td>-0.024161</td>\n",
       "      <td>-0.015319</td>\n",
       "      <td>0.014345</td>\n",
       "      <td>...</td>\n",
       "      <td>-0.034664</td>\n",
       "      <td>-0.002778</td>\n",
       "      <td>-0.009510</td>\n",
       "      <td>0.008948</td>\n",
       "      <td>-0.002162</td>\n",
       "      <td>0.001725</td>\n",
       "      <td>0.018299</td>\n",
       "      <td>-0.010635</td>\n",
       "      <td>0.004766</td>\n",
       "      <td>0.003796</td>\n",
       "    </tr>\n",
       "    <tr>\n",
       "      <th>4</th>\n",
       "      <td>-0.005370</td>\n",
       "      <td>-0.003207</td>\n",
       "      <td>-0.026482</td>\n",
       "      <td>-0.015546</td>\n",
       "      <td>-0.021141</td>\n",
       "      <td>-0.003342</td>\n",
       "      <td>0.001302</td>\n",
       "      <td>0.023362</td>\n",
       "      <td>0.054181</td>\n",
       "      <td>-0.023639</td>\n",
       "      <td>...</td>\n",
       "      <td>-0.032735</td>\n",
       "      <td>-0.021557</td>\n",
       "      <td>-0.037351</td>\n",
       "      <td>0.014458</td>\n",
       "      <td>0.027977</td>\n",
       "      <td>0.019664</td>\n",
       "      <td>0.003206</td>\n",
       "      <td>-0.035124</td>\n",
       "      <td>0.019024</td>\n",
       "      <td>0.008529</td>\n",
       "    </tr>\n",
       "  </tbody>\n",
       "</table>\n",
       "<p>5 rows × 1128 columns</p>\n",
       "</div>"
      ],
      "text/plain": [
       "tagId      1         2         3         4         5         6         7     \\\n",
       "0     -0.005727 -0.004789  0.012467  0.022227  0.029100  0.026902  0.020764   \n",
       "1      0.013838  0.010480 -0.002782 -0.005048  0.002582  0.006757 -0.001628   \n",
       "2      0.001246  0.002061  0.023933  0.015616  0.033837  0.021746  0.013943   \n",
       "3     -0.006460 -0.005260  0.014885  0.016244 -0.009169  0.006098 -0.004958   \n",
       "4     -0.005370 -0.003207 -0.026482 -0.015546 -0.021141 -0.003342  0.001302   \n",
       "\n",
       "tagId      8         9         10      ...         1119      1120      1121  \\\n",
       "0      0.047165  0.016108  0.017450    ...     0.025489  0.012439  0.018284   \n",
       "1      0.013072  0.031092 -0.003392    ...     0.009218 -0.000254  0.003118   \n",
       "2      0.011271  0.007539  0.019749    ...     0.025336  0.018816  0.033670   \n",
       "3     -0.024161 -0.015319  0.014345    ...    -0.034664 -0.002778 -0.009510   \n",
       "4      0.023362  0.054181 -0.023639    ...    -0.032735 -0.021557 -0.037351   \n",
       "\n",
       "tagId      1122      1123      1124      1125      1126      1127      1128  \n",
       "0      0.020300  0.009469  0.017047  0.005094  0.017191 -0.010266 -0.001373  \n",
       "1     -0.015936 -0.015335 -0.003184  0.002533  0.005512  0.014174  0.005516  \n",
       "2     -0.002630 -0.014346  0.002256 -0.005774  0.032529 -0.039958 -0.016344  \n",
       "3      0.008948 -0.002162  0.001725  0.018299 -0.010635  0.004766  0.003796  \n",
       "4      0.014458  0.027977  0.019664  0.003206 -0.035124  0.019024  0.008529  \n",
       "\n",
       "[5 rows x 1128 columns]"
      ]
     },
     "execution_count": 32,
     "metadata": {},
     "output_type": "execute_result"
    }
   ],
   "source": [
    "pca_explained=pd.DataFrame(pca.components_,columns=tag_tb.columns)\n",
    "\n",
    "pca_explained.head()"
   ]
  },
  {
   "cell_type": "code",
   "execution_count": 33,
   "metadata": {},
   "outputs": [
    {
     "data": {
      "text/plain": [
       "<matplotlib.image.AxesImage at 0x1a6b3bf898>"
      ]
     },
     "execution_count": 33,
     "metadata": {},
     "output_type": "execute_result"
    },
    {
     "data": {
      "text/plain": [
       "<Figure size 720x720 with 0 Axes>"
      ]
     },
     "metadata": {},
     "output_type": "display_data"
    },
    {
     "data": {
      "image/png": "[encoded data removed]",
      "text/plain": [
       "<Figure size 1152x144 with 1 Axes>"
      ]
     },
     "metadata": {
      "needs_background": "light"
     },
     "output_type": "display_data"
    }
   ],
   "source": [
    "# trying to see the correlation, but it's hard to see.\n",
    "plt.figure(figsize=(10,10))\n",
    "plt.matshow(pca_explained)"
   ]
  },
  {
   "cell_type": "markdown",
   "metadata": {},
   "source": [
    "#### Most important features"
   ]
  },
  {
   "cell_type": "code",
   "execution_count": 34,
   "metadata": {},
   "outputs": [],
   "source": [
    "most_important=[np.abs(pca.components_[i]).argmax() for i in range(100)]"
   ]
  },
  {
   "cell_type": "code",
   "execution_count": 35,
   "metadata": {},
   "outputs": [],
   "source": [
    "tags=genomeTags['tag']\n",
    "new_key=[]\n",
    "\n",
    "for num in most_important:\n",
    "      new_key.append(tags[num])"
   ]
  },
  {
   "cell_type": "code",
   "execution_count": 36,
   "metadata": {},
   "outputs": [],
   "source": [
    "important_tags={'PC{}'.format(i): new_key[i] for i in range(100) }"
   ]
  },
  {
   "cell_type": "code",
   "execution_count": 37,
   "metadata": {},
   "outputs": [],
   "source": [
    "from collections import Counter\n",
    "import operator\n",
    "\n",
    "most_important_count=Counter(new_key)\n",
    "most_important_count_sort = sorted(most_important_count.items(), key=operator.itemgetter(1), reverse=True)"
   ]
  },
  {
   "cell_type": "code",
   "execution_count": 38,
   "metadata": {},
   "outputs": [],
   "source": [
    "most_important_count_sort=most_important_count_sort[:20]"
   ]
  },
  {
   "cell_type": "code",
   "execution_count": 39,
   "metadata": {},
   "outputs": [
    {
     "data": {
      "text/plain": [
       "Text(0.5, 1.0, '20 Most Popular Tags')"
      ]
     },
     "execution_count": 39,
     "metadata": {},
     "output_type": "execute_result"
    },
    {
     "data": {
      "image/png": "[encoded data removed]",
      "text/plain": [
       "<Figure size 1440x360 with 1 Axes>"
      ]
     },
     "metadata": {
      "needs_background": "light"
     },
     "output_type": "display_data"
    }
   ],
   "source": [
    "x_ax=[]\n",
    "y_ax=[]\n",
    "\n",
    "for i in most_important_count_sort:\n",
    "    x_ax.append(i[0])\n",
    "    y_ax.append(i[1])\n",
    "\n",
    "plt.figure(figsize=(20,5))\n",
    "sns.barplot(x=x_ax, y=y_ax, palette='colorblind')\n",
    "plt.xticks(rotation=45)\n",
    "plt.tick_params(labelsize=15)\n",
    "plt.title(\"20 Most Popular Tags\", fontsize=20)"
   ]
  },
  {
   "cell_type": "code",
   "execution_count": 1,
   "metadata": {},
   "outputs": [],
   "source": [
    "# combine the most popular tags with unsuccessful movie tags or small films"
   ]
  },
  {
   "cell_type": "markdown",
   "metadata": {},
   "source": [
    "###  Merge two feature sets"
   ]
  },
  {
   "cell_type": "code",
   "execution_count": 40,
   "metadata": {},
   "outputs": [
    {
     "name": "stdout",
     "output_type": "stream",
     "text": [
      "(10381, 100)\n"
     ]
    },
    {
     "data": {
      "text/html": [
       "<div>\n",
       "<style scoped>\n",
       "    .dataframe tbody tr th:only-of-type {\n",
       "        vertical-align: middle;\n",
       "    }\n",
       "\n",
       "    .dataframe tbody tr th {\n",
       "        vertical-align: top;\n",
       "    }\n",
       "\n",
       "    .dataframe thead th {\n",
       "        text-align: right;\n",
       "    }\n",
       "</style>\n",
       "<table border=\"1\" class=\"dataframe\">\n",
       "  <thead>\n",
       "    <tr style=\"text-align: right;\">\n",
       "      <th></th>\n",
       "      <th>0</th>\n",
       "      <th>1</th>\n",
       "      <th>2</th>\n",
       "      <th>3</th>\n",
       "      <th>4</th>\n",
       "      <th>5</th>\n",
       "      <th>6</th>\n",
       "      <th>7</th>\n",
       "      <th>8</th>\n",
       "      <th>9</th>\n",
       "      <th>...</th>\n",
       "      <th>90</th>\n",
       "      <th>91</th>\n",
       "      <th>92</th>\n",
       "      <th>93</th>\n",
       "      <th>94</th>\n",
       "      <th>95</th>\n",
       "      <th>96</th>\n",
       "      <th>97</th>\n",
       "      <th>98</th>\n",
       "      <th>99</th>\n",
       "    </tr>\n",
       "  </thead>\n",
       "  <tbody>\n",
       "    <tr>\n",
       "      <th>0</th>\n",
       "      <td>0.636799</td>\n",
       "      <td>2.121422</td>\n",
       "      <td>2.282099</td>\n",
       "      <td>1.082026</td>\n",
       "      <td>1.294148</td>\n",
       "      <td>-1.081941</td>\n",
       "      <td>1.067232</td>\n",
       "      <td>1.318012</td>\n",
       "      <td>-0.792389</td>\n",
       "      <td>-1.512622</td>\n",
       "      <td>...</td>\n",
       "      <td>0.353763</td>\n",
       "      <td>-0.049455</td>\n",
       "      <td>-0.160273</td>\n",
       "      <td>-0.111615</td>\n",
       "      <td>-0.246597</td>\n",
       "      <td>0.101377</td>\n",
       "      <td>-0.024929</td>\n",
       "      <td>-0.080656</td>\n",
       "      <td>-0.072975</td>\n",
       "      <td>0.035322</td>\n",
       "    </tr>\n",
       "    <tr>\n",
       "      <th>1</th>\n",
       "      <td>-1.620003</td>\n",
       "      <td>1.542523</td>\n",
       "      <td>1.146524</td>\n",
       "      <td>0.830368</td>\n",
       "      <td>0.070493</td>\n",
       "      <td>-0.456105</td>\n",
       "      <td>0.088840</td>\n",
       "      <td>1.050016</td>\n",
       "      <td>-0.451456</td>\n",
       "      <td>-0.902905</td>\n",
       "      <td>...</td>\n",
       "      <td>-0.087347</td>\n",
       "      <td>-0.066552</td>\n",
       "      <td>0.080236</td>\n",
       "      <td>0.053926</td>\n",
       "      <td>0.013782</td>\n",
       "      <td>-0.155445</td>\n",
       "      <td>-0.138064</td>\n",
       "      <td>-0.073154</td>\n",
       "      <td>-0.165914</td>\n",
       "      <td>0.042047</td>\n",
       "    </tr>\n",
       "  </tbody>\n",
       "</table>\n",
       "<p>2 rows × 100 columns</p>\n",
       "</div>"
      ],
      "text/plain": [
       "         0         1         2         3         4         5         6   \\\n",
       "0  0.636799  2.121422  2.282099  1.082026  1.294148 -1.081941  1.067232   \n",
       "1 -1.620003  1.542523  1.146524  0.830368  0.070493 -0.456105  0.088840   \n",
       "\n",
       "         7         8         9     ...           90        91        92  \\\n",
       "0  1.318012 -0.792389 -1.512622    ...     0.353763 -0.049455 -0.160273   \n",
       "1  1.050016 -0.451456 -0.902905    ...    -0.087347 -0.066552  0.080236   \n",
       "\n",
       "         93        94        95        96        97        98        99  \n",
       "0 -0.111615 -0.246597  0.101377 -0.024929 -0.080656 -0.072975  0.035322  \n",
       "1  0.053926  0.013782 -0.155445 -0.138064 -0.073154 -0.165914  0.042047  \n",
       "\n",
       "[2 rows x 100 columns]"
      ]
     },
     "execution_count": 40,
     "metadata": {},
     "output_type": "execute_result"
    }
   ],
   "source": [
    "print(tags_pca.shape)\n",
    "tags_pca.head(2)"
   ]
  },
  {
   "cell_type": "code",
   "execution_count": 42,
   "metadata": {},
   "outputs": [
    {
     "name": "stdout",
     "output_type": "stream",
     "text": [
      "(10381, 1128)\n"
     ]
    },
    {
     "data": {
      "text/html": [
       "<div>\n",
       "<style scoped>\n",
       "    .dataframe tbody tr th:only-of-type {\n",
       "        vertical-align: middle;\n",
       "    }\n",
       "\n",
       "    .dataframe tbody tr th {\n",
       "        vertical-align: top;\n",
       "    }\n",
       "\n",
       "    .dataframe thead th {\n",
       "        text-align: right;\n",
       "    }\n",
       "</style>\n",
       "<table border=\"1\" class=\"dataframe\">\n",
       "  <thead>\n",
       "    <tr style=\"text-align: right;\">\n",
       "      <th>tagId</th>\n",
       "      <th>1</th>\n",
       "      <th>2</th>\n",
       "      <th>3</th>\n",
       "      <th>4</th>\n",
       "      <th>5</th>\n",
       "      <th>6</th>\n",
       "      <th>7</th>\n",
       "      <th>8</th>\n",
       "      <th>9</th>\n",
       "      <th>10</th>\n",
       "      <th>...</th>\n",
       "      <th>1119</th>\n",
       "      <th>1120</th>\n",
       "      <th>1121</th>\n",
       "      <th>1122</th>\n",
       "      <th>1123</th>\n",
       "      <th>1124</th>\n",
       "      <th>1125</th>\n",
       "      <th>1126</th>\n",
       "      <th>1127</th>\n",
       "      <th>1128</th>\n",
       "    </tr>\n",
       "    <tr>\n",
       "      <th>movieId</th>\n",
       "      <th></th>\n",
       "      <th></th>\n",
       "      <th></th>\n",
       "      <th></th>\n",
       "      <th></th>\n",
       "      <th></th>\n",
       "      <th></th>\n",
       "      <th></th>\n",
       "      <th></th>\n",
       "      <th></th>\n",
       "      <th></th>\n",
       "      <th></th>\n",
       "      <th></th>\n",
       "      <th></th>\n",
       "      <th></th>\n",
       "      <th></th>\n",
       "      <th></th>\n",
       "      <th></th>\n",
       "      <th></th>\n",
       "      <th></th>\n",
       "      <th></th>\n",
       "    </tr>\n",
       "  </thead>\n",
       "  <tbody>\n",
       "    <tr>\n",
       "      <th>131168</th>\n",
       "      <td>0.05975</td>\n",
       "      <td>0.10375</td>\n",
       "      <td>0.1785</td>\n",
       "      <td>0.14875</td>\n",
       "      <td>0.2775</td>\n",
       "      <td>0.1625</td>\n",
       "      <td>0.04125</td>\n",
       "      <td>0.25475</td>\n",
       "      <td>0.06900</td>\n",
       "      <td>0.15375</td>\n",
       "      <td>...</td>\n",
       "      <td>0.203</td>\n",
       "      <td>0.16325</td>\n",
       "      <td>0.81025</td>\n",
       "      <td>0.0190</td>\n",
       "      <td>0.18175</td>\n",
       "      <td>0.03225</td>\n",
       "      <td>0.04800</td>\n",
       "      <td>0.51925</td>\n",
       "      <td>0.0670</td>\n",
       "      <td>0.01725</td>\n",
       "    </tr>\n",
       "    <tr>\n",
       "      <th>131170</th>\n",
       "      <td>0.05325</td>\n",
       "      <td>0.08625</td>\n",
       "      <td>0.0170</td>\n",
       "      <td>0.02650</td>\n",
       "      <td>0.1570</td>\n",
       "      <td>0.0935</td>\n",
       "      <td>0.08550</td>\n",
       "      <td>0.34700</td>\n",
       "      <td>0.14175</td>\n",
       "      <td>0.03050</td>\n",
       "      <td>...</td>\n",
       "      <td>0.020</td>\n",
       "      <td>0.02400</td>\n",
       "      <td>0.01500</td>\n",
       "      <td>0.0445</td>\n",
       "      <td>0.64375</td>\n",
       "      <td>0.58775</td>\n",
       "      <td>0.01075</td>\n",
       "      <td>0.01575</td>\n",
       "      <td>0.1145</td>\n",
       "      <td>0.02175</td>\n",
       "    </tr>\n",
       "  </tbody>\n",
       "</table>\n",
       "<p>2 rows × 1128 columns</p>\n",
       "</div>"
      ],
      "text/plain": [
       "tagId       1        2       3        4       5       6        7        8     \\\n",
       "movieId                                                                        \n",
       "131168   0.05975  0.10375  0.1785  0.14875  0.2775  0.1625  0.04125  0.25475   \n",
       "131170   0.05325  0.08625  0.0170  0.02650  0.1570  0.0935  0.08550  0.34700   \n",
       "\n",
       "tagId       9        10     ...      1119     1120     1121    1122     1123  \\\n",
       "movieId                     ...                                                \n",
       "131168   0.06900  0.15375   ...     0.203  0.16325  0.81025  0.0190  0.18175   \n",
       "131170   0.14175  0.03050   ...     0.020  0.02400  0.01500  0.0445  0.64375   \n",
       "\n",
       "tagId       1124     1125     1126    1127     1128  \n",
       "movieId                                              \n",
       "131168   0.03225  0.04800  0.51925  0.0670  0.01725  \n",
       "131170   0.58775  0.01075  0.01575  0.1145  0.02175  \n",
       "\n",
       "[2 rows x 1128 columns]"
      ]
     },
     "execution_count": 42,
     "metadata": {},
     "output_type": "execute_result"
    }
   ],
   "source": [
    "print(tag_tb.shape)\n",
    "tag_tb.tail(2)"
   ]
  },
  {
   "cell_type": "code",
   "execution_count": 41,
   "metadata": {},
   "outputs": [
    {
     "data": {
      "text/html": [
       "<div>\n",
       "<style scoped>\n",
       "    .dataframe tbody tr th:only-of-type {\n",
       "        vertical-align: middle;\n",
       "    }\n",
       "\n",
       "    .dataframe tbody tr th {\n",
       "        vertical-align: top;\n",
       "    }\n",
       "\n",
       "    .dataframe thead th {\n",
       "        text-align: right;\n",
       "    }\n",
       "</style>\n",
       "<table border=\"1\" class=\"dataframe\">\n",
       "  <thead>\n",
       "    <tr style=\"text-align: right;\">\n",
       "      <th></th>\n",
       "      <th>0</th>\n",
       "      <th>1</th>\n",
       "      <th>2</th>\n",
       "      <th>3</th>\n",
       "      <th>4</th>\n",
       "      <th>5</th>\n",
       "      <th>6</th>\n",
       "      <th>7</th>\n",
       "      <th>8</th>\n",
       "      <th>9</th>\n",
       "      <th>...</th>\n",
       "      <th>91</th>\n",
       "      <th>92</th>\n",
       "      <th>93</th>\n",
       "      <th>94</th>\n",
       "      <th>95</th>\n",
       "      <th>96</th>\n",
       "      <th>97</th>\n",
       "      <th>98</th>\n",
       "      <th>99</th>\n",
       "      <th>movieId</th>\n",
       "    </tr>\n",
       "  </thead>\n",
       "  <tbody>\n",
       "    <tr>\n",
       "      <th>10371</th>\n",
       "      <td>-1.586950</td>\n",
       "      <td>0.129254</td>\n",
       "      <td>1.113477</td>\n",
       "      <td>0.499842</td>\n",
       "      <td>-0.059697</td>\n",
       "      <td>0.070793</td>\n",
       "      <td>0.444122</td>\n",
       "      <td>0.487037</td>\n",
       "      <td>-0.518899</td>\n",
       "      <td>-0.253255</td>\n",
       "      <td>...</td>\n",
       "      <td>0.025398</td>\n",
       "      <td>-0.106122</td>\n",
       "      <td>0.016678</td>\n",
       "      <td>-0.178264</td>\n",
       "      <td>-0.054627</td>\n",
       "      <td>0.135448</td>\n",
       "      <td>0.079097</td>\n",
       "      <td>0.217746</td>\n",
       "      <td>0.228238</td>\n",
       "      <td>130075</td>\n",
       "    </tr>\n",
       "    <tr>\n",
       "      <th>10372</th>\n",
       "      <td>-1.465875</td>\n",
       "      <td>0.169694</td>\n",
       "      <td>0.139030</td>\n",
       "      <td>0.264742</td>\n",
       "      <td>-0.250766</td>\n",
       "      <td>0.226787</td>\n",
       "      <td>0.312373</td>\n",
       "      <td>-0.125901</td>\n",
       "      <td>0.020967</td>\n",
       "      <td>-0.467775</td>\n",
       "      <td>...</td>\n",
       "      <td>-0.054074</td>\n",
       "      <td>-0.034217</td>\n",
       "      <td>0.013147</td>\n",
       "      <td>0.233010</td>\n",
       "      <td>0.079271</td>\n",
       "      <td>-0.080305</td>\n",
       "      <td>0.121258</td>\n",
       "      <td>0.050071</td>\n",
       "      <td>-0.000906</td>\n",
       "      <td>130087</td>\n",
       "    </tr>\n",
       "    <tr>\n",
       "      <th>10373</th>\n",
       "      <td>-1.972834</td>\n",
       "      <td>0.438243</td>\n",
       "      <td>0.165151</td>\n",
       "      <td>0.501388</td>\n",
       "      <td>-0.690807</td>\n",
       "      <td>0.678827</td>\n",
       "      <td>-0.337136</td>\n",
       "      <td>-0.287022</td>\n",
       "      <td>0.025819</td>\n",
       "      <td>0.358188</td>\n",
       "      <td>...</td>\n",
       "      <td>0.128827</td>\n",
       "      <td>-0.104747</td>\n",
       "      <td>-0.044767</td>\n",
       "      <td>0.010285</td>\n",
       "      <td>0.135226</td>\n",
       "      <td>-0.147665</td>\n",
       "      <td>-0.073447</td>\n",
       "      <td>-0.194859</td>\n",
       "      <td>-0.087806</td>\n",
       "      <td>130490</td>\n",
       "    </tr>\n",
       "    <tr>\n",
       "      <th>10374</th>\n",
       "      <td>-1.338299</td>\n",
       "      <td>0.891886</td>\n",
       "      <td>-0.196205</td>\n",
       "      <td>-0.084368</td>\n",
       "      <td>-0.138287</td>\n",
       "      <td>-0.064247</td>\n",
       "      <td>-0.114304</td>\n",
       "      <td>-0.520262</td>\n",
       "      <td>-0.413173</td>\n",
       "      <td>-0.072436</td>\n",
       "      <td>...</td>\n",
       "      <td>-0.090254</td>\n",
       "      <td>0.208333</td>\n",
       "      <td>0.413865</td>\n",
       "      <td>-0.039152</td>\n",
       "      <td>-0.240551</td>\n",
       "      <td>-0.180792</td>\n",
       "      <td>0.020805</td>\n",
       "      <td>0.150431</td>\n",
       "      <td>0.088462</td>\n",
       "      <td>130496</td>\n",
       "    </tr>\n",
       "    <tr>\n",
       "      <th>10375</th>\n",
       "      <td>-1.481921</td>\n",
       "      <td>-0.037420</td>\n",
       "      <td>1.017029</td>\n",
       "      <td>0.628599</td>\n",
       "      <td>0.257747</td>\n",
       "      <td>-0.222387</td>\n",
       "      <td>0.522257</td>\n",
       "      <td>0.518454</td>\n",
       "      <td>-0.293177</td>\n",
       "      <td>-1.167351</td>\n",
       "      <td>...</td>\n",
       "      <td>0.184915</td>\n",
       "      <td>-0.281731</td>\n",
       "      <td>-0.209127</td>\n",
       "      <td>-0.196053</td>\n",
       "      <td>0.096780</td>\n",
       "      <td>0.041318</td>\n",
       "      <td>0.026984</td>\n",
       "      <td>-0.020639</td>\n",
       "      <td>-0.025416</td>\n",
       "      <td>130520</td>\n",
       "    </tr>\n",
       "    <tr>\n",
       "      <th>10376</th>\n",
       "      <td>-2.020779</td>\n",
       "      <td>-0.573755</td>\n",
       "      <td>-0.321902</td>\n",
       "      <td>-0.405656</td>\n",
       "      <td>-1.140604</td>\n",
       "      <td>-0.301498</td>\n",
       "      <td>-0.096569</td>\n",
       "      <td>-0.784446</td>\n",
       "      <td>-0.605252</td>\n",
       "      <td>-0.346268</td>\n",
       "      <td>...</td>\n",
       "      <td>0.123053</td>\n",
       "      <td>0.017973</td>\n",
       "      <td>0.038270</td>\n",
       "      <td>-0.014528</td>\n",
       "      <td>-0.122879</td>\n",
       "      <td>-0.045575</td>\n",
       "      <td>-0.153035</td>\n",
       "      <td>-0.156997</td>\n",
       "      <td>-0.094707</td>\n",
       "      <td>130578</td>\n",
       "    </tr>\n",
       "    <tr>\n",
       "      <th>10377</th>\n",
       "      <td>0.438845</td>\n",
       "      <td>-0.516363</td>\n",
       "      <td>-0.563928</td>\n",
       "      <td>0.886456</td>\n",
       "      <td>-0.130510</td>\n",
       "      <td>0.961269</td>\n",
       "      <td>-0.000598</td>\n",
       "      <td>1.179328</td>\n",
       "      <td>-0.038895</td>\n",
       "      <td>0.794465</td>\n",
       "      <td>...</td>\n",
       "      <td>0.233444</td>\n",
       "      <td>-0.180781</td>\n",
       "      <td>-0.119856</td>\n",
       "      <td>0.030742</td>\n",
       "      <td>0.004065</td>\n",
       "      <td>-0.170106</td>\n",
       "      <td>-0.067184</td>\n",
       "      <td>-0.243802</td>\n",
       "      <td>-0.113664</td>\n",
       "      <td>130840</td>\n",
       "    </tr>\n",
       "    <tr>\n",
       "      <th>10378</th>\n",
       "      <td>-1.693994</td>\n",
       "      <td>-0.095674</td>\n",
       "      <td>-0.213209</td>\n",
       "      <td>-0.719169</td>\n",
       "      <td>1.152155</td>\n",
       "      <td>-0.196490</td>\n",
       "      <td>0.502097</td>\n",
       "      <td>-0.827246</td>\n",
       "      <td>1.152780</td>\n",
       "      <td>0.191408</td>\n",
       "      <td>...</td>\n",
       "      <td>0.104623</td>\n",
       "      <td>-0.083002</td>\n",
       "      <td>0.124596</td>\n",
       "      <td>0.078802</td>\n",
       "      <td>-0.030450</td>\n",
       "      <td>-0.182364</td>\n",
       "      <td>0.116557</td>\n",
       "      <td>0.228906</td>\n",
       "      <td>0.157162</td>\n",
       "      <td>131013</td>\n",
       "    </tr>\n",
       "    <tr>\n",
       "      <th>10379</th>\n",
       "      <td>1.835314</td>\n",
       "      <td>-0.217458</td>\n",
       "      <td>0.280566</td>\n",
       "      <td>-0.544066</td>\n",
       "      <td>-1.533384</td>\n",
       "      <td>-0.648774</td>\n",
       "      <td>0.298892</td>\n",
       "      <td>0.222346</td>\n",
       "      <td>0.174835</td>\n",
       "      <td>1.063225</td>\n",
       "      <td>...</td>\n",
       "      <td>-0.006018</td>\n",
       "      <td>-0.202448</td>\n",
       "      <td>-0.017183</td>\n",
       "      <td>0.001934</td>\n",
       "      <td>0.038463</td>\n",
       "      <td>0.094493</td>\n",
       "      <td>0.443270</td>\n",
       "      <td>-0.002296</td>\n",
       "      <td>-0.000453</td>\n",
       "      <td>131168</td>\n",
       "    </tr>\n",
       "    <tr>\n",
       "      <th>10380</th>\n",
       "      <td>0.503236</td>\n",
       "      <td>2.115387</td>\n",
       "      <td>-0.455192</td>\n",
       "      <td>1.214367</td>\n",
       "      <td>-0.257783</td>\n",
       "      <td>2.532987</td>\n",
       "      <td>0.448352</td>\n",
       "      <td>0.037637</td>\n",
       "      <td>0.614199</td>\n",
       "      <td>-0.123118</td>\n",
       "      <td>...</td>\n",
       "      <td>-0.278231</td>\n",
       "      <td>0.122250</td>\n",
       "      <td>0.140112</td>\n",
       "      <td>-0.226823</td>\n",
       "      <td>0.036781</td>\n",
       "      <td>0.100602</td>\n",
       "      <td>0.213437</td>\n",
       "      <td>-0.196469</td>\n",
       "      <td>0.318678</td>\n",
       "      <td>131170</td>\n",
       "    </tr>\n",
       "  </tbody>\n",
       "</table>\n",
       "<p>10 rows × 101 columns</p>\n",
       "</div>"
      ],
      "text/plain": [
       "              0         1         2         3         4         5         6  \\\n",
       "10371 -1.586950  0.129254  1.113477  0.499842 -0.059697  0.070793  0.444122   \n",
       "10372 -1.465875  0.169694  0.139030  0.264742 -0.250766  0.226787  0.312373   \n",
       "10373 -1.972834  0.438243  0.165151  0.501388 -0.690807  0.678827 -0.337136   \n",
       "10374 -1.338299  0.891886 -0.196205 -0.084368 -0.138287 -0.064247 -0.114304   \n",
       "10375 -1.481921 -0.037420  1.017029  0.628599  0.257747 -0.222387  0.522257   \n",
       "10376 -2.020779 -0.573755 -0.321902 -0.405656 -1.140604 -0.301498 -0.096569   \n",
       "10377  0.438845 -0.516363 -0.563928  0.886456 -0.130510  0.961269 -0.000598   \n",
       "10378 -1.693994 -0.095674 -0.213209 -0.719169  1.152155 -0.196490  0.502097   \n",
       "10379  1.835314 -0.217458  0.280566 -0.544066 -1.533384 -0.648774  0.298892   \n",
       "10380  0.503236  2.115387 -0.455192  1.214367 -0.257783  2.532987  0.448352   \n",
       "\n",
       "              7         8         9   ...           91        92        93  \\\n",
       "10371  0.487037 -0.518899 -0.253255   ...     0.025398 -0.106122  0.016678   \n",
       "10372 -0.125901  0.020967 -0.467775   ...    -0.054074 -0.034217  0.013147   \n",
       "10373 -0.287022  0.025819  0.358188   ...     0.128827 -0.104747 -0.044767   \n",
       "10374 -0.520262 -0.413173 -0.072436   ...    -0.090254  0.208333  0.413865   \n",
       "10375  0.518454 -0.293177 -1.167351   ...     0.184915 -0.281731 -0.209127   \n",
       "10376 -0.784446 -0.605252 -0.346268   ...     0.123053  0.017973  0.038270   \n",
       "10377  1.179328 -0.038895  0.794465   ...     0.233444 -0.180781 -0.119856   \n",
       "10378 -0.827246  1.152780  0.191408   ...     0.104623 -0.083002  0.124596   \n",
       "10379  0.222346  0.174835  1.063225   ...    -0.006018 -0.202448 -0.017183   \n",
       "10380  0.037637  0.614199 -0.123118   ...    -0.278231  0.122250  0.140112   \n",
       "\n",
       "             94        95        96        97        98        99  movieId  \n",
       "10371 -0.178264 -0.054627  0.135448  0.079097  0.217746  0.228238   130075  \n",
       "10372  0.233010  0.079271 -0.080305  0.121258  0.050071 -0.000906   130087  \n",
       "10373  0.010285  0.135226 -0.147665 -0.073447 -0.194859 -0.087806   130490  \n",
       "10374 -0.039152 -0.240551 -0.180792  0.020805  0.150431  0.088462   130496  \n",
       "10375 -0.196053  0.096780  0.041318  0.026984 -0.020639 -0.025416   130520  \n",
       "10376 -0.014528 -0.122879 -0.045575 -0.153035 -0.156997 -0.094707   130578  \n",
       "10377  0.030742  0.004065 -0.170106 -0.067184 -0.243802 -0.113664   130840  \n",
       "10378  0.078802 -0.030450 -0.182364  0.116557  0.228906  0.157162   131013  \n",
       "10379  0.001934  0.038463  0.094493  0.443270 -0.002296 -0.000453   131168  \n",
       "10380 -0.226823  0.036781  0.100602  0.213437 -0.196469  0.318678   131170  \n",
       "\n",
       "[10 rows x 101 columns]"
      ]
     },
     "execution_count": 41,
     "metadata": {},
     "output_type": "execute_result"
    }
   ],
   "source": [
    "tags_pca['movieId']=tag_tb.index\n",
    "tags_pca.tail(10)"
   ]
  },
  {
   "cell_type": "code",
   "execution_count": 42,
   "metadata": {},
   "outputs": [],
   "source": [
    "movies=pd.merge(movies, tags_pca, on='movieId')\n",
    "\n",
    "movies = movies.drop('title', axis=1)"
   ]
  },
  {
   "cell_type": "markdown",
   "metadata": {},
   "source": [
    "**We now have a feature set!**"
   ]
  },
  {
   "cell_type": "markdown",
   "metadata": {},
   "source": [
    "## Ratings\n",
    "\n",
    "### See the most popular rated-movies"
   ]
  },
  {
   "cell_type": "code",
   "execution_count": 62,
   "metadata": {},
   "outputs": [],
   "source": [
    "popular_movies=pd.DataFrame(\n",
    "    ratings.groupby(by='movieId').count().sort_values('rating', ascending=False)['rating'])"
   ]
  },
  {
   "cell_type": "markdown",
   "metadata": {},
   "source": [
    "#### Long Tail Plot to see the popularity of the movies rated"
   ]
  },
  {
   "cell_type": "code",
   "execution_count": 63,
   "metadata": {},
   "outputs": [],
   "source": [
    "popular_movies.reset_index(inplace=True)"
   ]
  },
  {
   "cell_type": "code",
   "execution_count": 64,
   "metadata": {
    "scrolled": true
   },
   "outputs": [
    {
     "data": {
      "text/html": [
       "<div>\n",
       "<style scoped>\n",
       "    .dataframe tbody tr th:only-of-type {\n",
       "        vertical-align: middle;\n",
       "    }\n",
       "\n",
       "    .dataframe tbody tr th {\n",
       "        vertical-align: top;\n",
       "    }\n",
       "\n",
       "    .dataframe thead th {\n",
       "        text-align: right;\n",
       "    }\n",
       "</style>\n",
       "<table border=\"1\" class=\"dataframe\">\n",
       "  <thead>\n",
       "    <tr style=\"text-align: right;\">\n",
       "      <th></th>\n",
       "      <th>movieId</th>\n",
       "      <th>rating</th>\n",
       "    </tr>\n",
       "  </thead>\n",
       "  <tbody>\n",
       "    <tr>\n",
       "      <th>0</th>\n",
       "      <td>296</td>\n",
       "      <td>67310</td>\n",
       "    </tr>\n",
       "    <tr>\n",
       "      <th>1</th>\n",
       "      <td>356</td>\n",
       "      <td>66172</td>\n",
       "    </tr>\n",
       "    <tr>\n",
       "      <th>2</th>\n",
       "      <td>318</td>\n",
       "      <td>63366</td>\n",
       "    </tr>\n",
       "  </tbody>\n",
       "</table>\n",
       "</div>"
      ],
      "text/plain": [
       "   movieId  rating\n",
       "0      296   67310\n",
       "1      356   66172\n",
       "2      318   63366"
      ]
     },
     "execution_count": 64,
     "metadata": {},
     "output_type": "execute_result"
    }
   ],
   "source": [
    "popular_movies.head(3)"
   ]
  },
  {
   "cell_type": "code",
   "execution_count": 65,
   "metadata": {},
   "outputs": [],
   "source": [
    "popular_movies['cumulative']=popular_movies.rating.cumsum()"
   ]
  },
  {
   "cell_type": "code",
   "execution_count": 66,
   "metadata": {},
   "outputs": [
    {
     "data": {
      "text/plain": [
       "1948"
      ]
     },
     "execution_count": 66,
     "metadata": {},
     "output_type": "execute_result"
    }
   ],
   "source": [
    "len(popular_movies.loc[popular_movies['cumulative']<(20000263*.8)])"
   ]
  },
  {
   "cell_type": "code",
   "execution_count": 151,
   "metadata": {},
   "outputs": [
    {
     "data": {
      "text/plain": [
       "<matplotlib.lines.Line2D at 0x1a4bf07128>"
      ]
     },
     "execution_count": 151,
     "metadata": {},
     "output_type": "execute_result"
    },
    {
     "data": {
      "image/png": "[encoded data removed]",
      "text/plain": [
       "<Figure size 576x288 with 1 Axes>"
      ]
     },
     "metadata": {
      "needs_background": "light"
     },
     "output_type": "display_data"
    }
   ],
   "source": [
    "x=range(0,len(popular_movies))\n",
    "\n",
    "plt.figure(figsize=(8, 4))\n",
    "ax = sns.lineplot(x, y=\"rating\", data=popular_movies, color=\"black\")\n",
    "\n",
    "ax.set_title('Rating Count per Movie')\n",
    "ax.set_ylabel('# of ratings')\n",
    "ax.set_xlabel('Movie ID')\n",
    "plt.axvline(x=1948, linestyle='--', color=\"red\")"
   ]
  },
  {
   "cell_type": "code",
   "execution_count": 67,
   "metadata": {},
   "outputs": [],
   "source": [
    "popular_movies=popular_movies.iloc[:3000]"
   ]
  },
  {
   "cell_type": "markdown",
   "metadata": {},
   "source": [
    "## Build Models\n",
    "\n",
    "### Divide Train Set\n",
    "The ratings have 20 mil rows. To make the training more efficient, I will be dividing the dataset to smaller training sets. "
   ]
  },
  {
   "cell_type": "code",
   "execution_count": 68,
   "metadata": {},
   "outputs": [],
   "source": [
    "ratings = pd.read_csv('ratings.csv')"
   ]
  },
  {
   "cell_type": "code",
   "execution_count": 69,
   "metadata": {
    "scrolled": true
   },
   "outputs": [],
   "source": [
    "# Filter out movies that are unpopular - we don't wanna recommend unpopular movies!\n",
    "\n",
    "ratings_df=ratings.loc[ratings.movieId.isin(popular_movies.movieId.unique())]"
   ]
  },
  {
   "cell_type": "code",
   "execution_count": 70,
   "metadata": {},
   "outputs": [
    {
     "data": {
      "text/plain": [
       "3000"
      ]
     },
     "execution_count": 70,
     "metadata": {},
     "output_type": "execute_result"
    }
   ],
   "source": [
    "len(ratings_df.movieId.unique())\n",
    "#total 3000 unique movies in the recommendation engine"
   ]
  },
  {
   "cell_type": "code",
   "execution_count": 72,
   "metadata": {},
   "outputs": [
    {
     "data": {
      "text/plain": [
       "Text(0.5, 1.0, 'Distribution of Ratings for Popular Movies')"
      ]
     },
     "execution_count": 72,
     "metadata": {},
     "output_type": "execute_result"
    },
    {
     "data": {
      "image/png": "[encoded data removed]",
      "text/plain": [
       "<Figure size 432x288 with 1 Axes>"
      ]
     },
     "metadata": {
      "needs_background": "light"
     },
     "output_type": "display_data"
    }
   ],
   "source": [
    "plt.hist(ratings_df[\"rating\"], bins=6, color = \"skyblue\")\n",
    "plt.title(\"Distribution of Ratings for Popular Movies\")"
   ]
  },
  {
   "cell_type": "code",
   "execution_count": 73,
   "metadata": {},
   "outputs": [],
   "source": [
    "# sort ratings table by timestamp so that I can divide it for different iterations.\n",
    "ratings_df=ratings_df.sort_values(\"timestamp\", ascending=True)"
   ]
  },
  {
   "cell_type": "code",
   "execution_count": 74,
   "metadata": {},
   "outputs": [
    {
     "data": {
      "text/html": [
       "<div>\n",
       "<style scoped>\n",
       "    .dataframe tbody tr th:only-of-type {\n",
       "        vertical-align: middle;\n",
       "    }\n",
       "\n",
       "    .dataframe tbody tr th {\n",
       "        vertical-align: top;\n",
       "    }\n",
       "\n",
       "    .dataframe thead th {\n",
       "        text-align: right;\n",
       "    }\n",
       "</style>\n",
       "<table border=\"1\" class=\"dataframe\">\n",
       "  <thead>\n",
       "    <tr style=\"text-align: right;\">\n",
       "      <th></th>\n",
       "      <th>userId</th>\n",
       "      <th>movieId</th>\n",
       "      <th>rating</th>\n",
       "    </tr>\n",
       "  </thead>\n",
       "  <tbody>\n",
       "    <tr>\n",
       "      <th>0</th>\n",
       "      <td>28507</td>\n",
       "      <td>1176</td>\n",
       "      <td>4.0</td>\n",
       "    </tr>\n",
       "    <tr>\n",
       "      <th>1</th>\n",
       "      <td>131160</td>\n",
       "      <td>1079</td>\n",
       "      <td>3.0</td>\n",
       "    </tr>\n",
       "    <tr>\n",
       "      <th>2</th>\n",
       "      <td>131160</td>\n",
       "      <td>47</td>\n",
       "      <td>5.0</td>\n",
       "    </tr>\n",
       "    <tr>\n",
       "      <th>3</th>\n",
       "      <td>131160</td>\n",
       "      <td>21</td>\n",
       "      <td>3.0</td>\n",
       "    </tr>\n",
       "    <tr>\n",
       "      <th>4</th>\n",
       "      <td>85252</td>\n",
       "      <td>24</td>\n",
       "      <td>3.0</td>\n",
       "    </tr>\n",
       "  </tbody>\n",
       "</table>\n",
       "</div>"
      ],
      "text/plain": [
       "   userId  movieId  rating\n",
       "0   28507     1176     4.0\n",
       "1  131160     1079     3.0\n",
       "2  131160       47     5.0\n",
       "3  131160       21     3.0\n",
       "4   85252       24     3.0"
      ]
     },
     "execution_count": 74,
     "metadata": {},
     "output_type": "execute_result"
    }
   ],
   "source": [
    "ratings_df=ratings_df.drop('timestamp', axis=1)\n",
    "ratings_df.reset_index(inplace=True, drop=True)\n",
    "ratings_df.head()"
   ]
  },
  {
   "cell_type": "code",
   "execution_count": 56,
   "metadata": {},
   "outputs": [],
   "source": [
    "# ratings.iloc[0:10]\n",
    "chunk_size = int(ratings_df.shape[0] / 100)"
   ]
  },
  {
   "cell_type": "code",
   "execution_count": 57,
   "metadata": {},
   "outputs": [
    {
     "data": {
      "text/plain": [
       "range(0, 17599744, 175997)"
      ]
     },
     "execution_count": 57,
     "metadata": {},
     "output_type": "execute_result"
    }
   ],
   "source": [
    "range(0, ratings_df.shape[0], chunk_size)"
   ]
  },
  {
   "cell_type": "code",
   "execution_count": 58,
   "metadata": {},
   "outputs": [],
   "source": [
    "dfs= []\n",
    "for row in range(0, ratings_df.shape[0], chunk_size):\n",
    "    df_subset = ratings_df.iloc[row:row + chunk_size]\n",
    "    dfs.append(df_subset)"
   ]
  },
  {
   "cell_type": "code",
   "execution_count": 59,
   "metadata": {},
   "outputs": [
    {
     "name": "stdout",
     "output_type": "stream",
     "text": [
      "175997\n"
     ]
    },
    {
     "data": {
      "text/html": [
       "<div>\n",
       "<style scoped>\n",
       "    .dataframe tbody tr th:only-of-type {\n",
       "        vertical-align: middle;\n",
       "    }\n",
       "\n",
       "    .dataframe tbody tr th {\n",
       "        vertical-align: top;\n",
       "    }\n",
       "\n",
       "    .dataframe thead th {\n",
       "        text-align: right;\n",
       "    }\n",
       "</style>\n",
       "<table border=\"1\" class=\"dataframe\">\n",
       "  <thead>\n",
       "    <tr style=\"text-align: right;\">\n",
       "      <th></th>\n",
       "      <th>userId</th>\n",
       "      <th>movieId</th>\n",
       "      <th>rating</th>\n",
       "    </tr>\n",
       "  </thead>\n",
       "  <tbody>\n",
       "    <tr>\n",
       "      <th>0</th>\n",
       "      <td>28507</td>\n",
       "      <td>1176</td>\n",
       "      <td>4.0</td>\n",
       "    </tr>\n",
       "    <tr>\n",
       "      <th>1</th>\n",
       "      <td>131160</td>\n",
       "      <td>1079</td>\n",
       "      <td>3.0</td>\n",
       "    </tr>\n",
       "    <tr>\n",
       "      <th>2</th>\n",
       "      <td>131160</td>\n",
       "      <td>47</td>\n",
       "      <td>5.0</td>\n",
       "    </tr>\n",
       "    <tr>\n",
       "      <th>3</th>\n",
       "      <td>131160</td>\n",
       "      <td>21</td>\n",
       "      <td>3.0</td>\n",
       "    </tr>\n",
       "    <tr>\n",
       "      <th>4</th>\n",
       "      <td>85252</td>\n",
       "      <td>24</td>\n",
       "      <td>3.0</td>\n",
       "    </tr>\n",
       "  </tbody>\n",
       "</table>\n",
       "</div>"
      ],
      "text/plain": [
       "   userId  movieId  rating\n",
       "0   28507     1176     4.0\n",
       "1  131160     1079     3.0\n",
       "2  131160       47     5.0\n",
       "3  131160       21     3.0\n",
       "4   85252       24     3.0"
      ]
     },
     "execution_count": 59,
     "metadata": {},
     "output_type": "execute_result"
    }
   ],
   "source": [
    "print(len(dfs[0]))\n",
    "dfs[0].head()"
   ]
  },
  {
   "cell_type": "markdown",
   "metadata": {},
   "source": [
    "### Nearest Neighbors\n",
    "#### Using Ratings Only\n",
    "- First Iteration"
   ]
  },
  {
   "cell_type": "code",
   "execution_count": 60,
   "metadata": {},
   "outputs": [],
   "source": [
    "from scipy.sparse import csr_matrix"
   ]
  },
  {
   "cell_type": "code",
   "execution_count": 61,
   "metadata": {},
   "outputs": [],
   "source": [
    "movies_raw = pd.read_csv('movies.csv')"
   ]
  },
  {
   "cell_type": "code",
   "execution_count": 62,
   "metadata": {},
   "outputs": [],
   "source": [
    "train_1=dfs[0]"
   ]
  },
  {
   "cell_type": "code",
   "execution_count": 63,
   "metadata": {},
   "outputs": [],
   "source": [
    "# pivot and create movie-user matrix\n",
    "movie_user_mat = train_1.pivot(index='movieId', columns='userId', values='rating').fillna(0)\n",
    "\n",
    "# create mapper from movie title to index\n",
    "movie_to_idx = {\n",
    "    i: movie for i, movie in \n",
    "    enumerate(list(movies_raw.set_index('movieId').loc[movie_user_mat.index].title))\n",
    "}\n",
    "\n",
    "# transform matrix to scipy sparse matrix\n",
    "movie_user_mat_sparse = csr_matrix(movie_user_mat.values)"
   ]
  },
  {
   "cell_type": "code",
   "execution_count": 64,
   "metadata": {},
   "outputs": [
    {
     "data": {
      "text/plain": [
       "NearestNeighbors(algorithm='brute', leaf_size=30, metric='cosine',\n",
       "         metric_params=None, n_jobs=None, n_neighbors=5, p=2, radius=1.0)"
      ]
     },
     "execution_count": 64,
     "metadata": {},
     "output_type": "execute_result"
    }
   ],
   "source": [
    "from sklearn.neighbors import NearestNeighbors\n",
    "\n",
    "# define model\n",
    "NN_cos = NearestNeighbors(metric='cosine', algorithm='brute')\n",
    "\n",
    "# fit\n",
    "NN_cos.fit(movie_user_mat_sparse)"
   ]
  },
  {
   "cell_type": "markdown",
   "metadata": {},
   "source": [
    "- Test the engine"
   ]
  },
  {
   "cell_type": "code",
   "execution_count": 80,
   "metadata": {
    "scrolled": false
   },
   "outputs": [
    {
     "name": "stdout",
     "output_type": "stream",
     "text": [
      "People who liked *Misérables, Les (1995)* also liked:\n",
      "\n",
      "1: Ed Wood (1994), with similarity score of 0.6082635908182086\n",
      "2: Menace II Society (1993), with similarity score of 0.6315810626988685\n",
      "3: Indian in the Cupboard, The (1995), with similarity score of 0.6329531255620646\n",
      "4: Boxing Helena (1993), with similarity score of 0.6590087675832442\n"
     ]
    }
   ],
   "source": [
    "query_index=np.random.choice(movie_user_mat.shape[0])\n",
    "distances, indices = NN_cos.kneighbors(movie_user_mat.iloc[query_index,:].values.reshape(1,-1))\n",
    "\n",
    "for i in range(0, len(distances.flatten())):\n",
    "    if i == 0:\n",
    "        print(\"People who liked *{0}* also liked:\\n\".format(movie_to_idx.get(movie_user_mat.index[query_index])))\n",
    "    else: \n",
    "        print('{0}: {1}, with similarity score of {2}'.format(i, movie_to_idx.get(movie_user_mat.index[indices.flatten()[i]]),distances.flatten()[i]))"
   ]
  },
  {
   "cell_type": "code",
   "execution_count": 81,
   "metadata": {},
   "outputs": [
    {
     "data": {
      "text/plain": [
       "array([0.        , 0.60826359, 0.63158106, 0.63295313, 0.65900877])"
      ]
     },
     "execution_count": 81,
     "metadata": {},
     "output_type": "execute_result"
    }
   ],
   "source": [
    "distances.flatten()"
   ]
  },
  {
   "cell_type": "code",
   "execution_count": 82,
   "metadata": {},
   "outputs": [
    {
     "data": {
      "text/plain": [
       "('Menace II Society (1993)', 0.6315810626988685)"
      ]
     },
     "execution_count": 82,
     "metadata": {},
     "output_type": "execute_result"
    }
   ],
   "source": [
    "movie_to_idx.get(2)\n",
    "movie_to_idx.get(movie_user_mat.index[indices.flatten()[2]]),distances.flatten()[2]"
   ]
  },
  {
   "cell_type": "markdown",
   "metadata": {},
   "source": [
    "#### Evaluation I"
   ]
  },
  {
   "cell_type": "code",
   "execution_count": 210,
   "metadata": {
    "scrolled": true
   },
   "outputs": [
    {
     "name": "stdout",
     "output_type": "stream",
     "text": [
      "For n_clusters = 3 The average silhouette_score is : 0.3706924758536127\n",
      "For n_clusters = 4 The average silhouette_score is : 0.3431701042573199\n",
      "For n_clusters = 5 The average silhouette_score is : 0.32491394348499375\n",
      "For n_clusters = 7 The average silhouette_score is : 0.3673961546013058\n",
      "For n_clusters = 9 The average silhouette_score is : 0.26443981621798907\n"
     ]
    },
    {
     "data": {
      "image/png": "[encoded data removed]",
      "text/plain": [
       "<Figure size 1296x504 with 2 Axes>"
      ]
     },
     "metadata": {
      "needs_background": "light"
     },
     "output_type": "display_data"
    },
    {
     "data": {
      "image/png": "[encoded data removed]",
      "text/plain": [
       "<Figure size 1296x504 with 2 Axes>"
      ]
     },
     "metadata": {
      "needs_background": "light"
     },
     "output_type": "display_data"
    },
    {
     "data": {
      "image/png": "[encoded data removed]",
      "text/plain": [
       "<Figure size 1296x504 with 2 Axes>"
      ]
     },
     "metadata": {
      "needs_background": "light"
     },
     "output_type": "display_data"
    },
    {
     "data": {
      "image/png": "[encoded data removed]",
      "text/plain": [
       "<Figure size 1296x504 with 2 Axes>"
      ]
     },
     "metadata": {
      "needs_background": "light"
     },
     "output_type": "display_data"
    },
    {
     "data": {
      "image/png": "[encoded data removed]",
      "text/plain": [
       "<Figure size 1296x504 with 2 Axes>"
      ]
     },
     "metadata": {
      "needs_background": "light"
     },
     "output_type": "display_data"
    }
   ],
   "source": [
    "from sklearn.cluster import KMeans\n",
    "from sklearn.metrics import silhouette_samples, silhouette_score\n",
    "import matplotlib.cm as cm\n",
    "\n",
    "range_n_clusters = [3, 4, 5, 7, 9]\n",
    "X=movie_user_mat\n",
    "\n",
    "for n_clusters in range_n_clusters:\n",
    "    # Create a subplot with 1 row and 2 columns\n",
    "    fig, (ax1, ax2) = plt.subplots(1, 2)\n",
    "    fig.set_size_inches(18, 7)\n",
    "\n",
    "    # The 1st subplot is the silhouette plot\n",
    "    # The silhouette coefficient can range from -1, 1 but in this example all\n",
    "    # lie within [-0.1, 1]\n",
    "    ax1.set_xlim([-0.1, 1])\n",
    "    # The (n_clusters+1)*10 is for inserting blank space between silhouette\n",
    "    # plots of individual clusters, to demarcate them clearly.\n",
    "    ax1.set_ylim([0, len(X) + (n_clusters + 1) * 10])\n",
    "\n",
    "    # Initialize the clusterer with n_clusters value and a random generator\n",
    "    # seed of 10 for reproducibility.\n",
    "    clusterer = KMeans(n_clusters=n_clusters, random_state=10)\n",
    "    cluster_labels = clusterer.fit_predict(X)\n",
    "\n",
    "    # The silhouette_score gives the average value for all the samples.\n",
    "    # This gives a perspective into the density and separation of the formed\n",
    "    # clusters\n",
    "    silhouette_avg = silhouette_score(X, cluster_labels)\n",
    "    print(\"For n_clusters =\", n_clusters,\n",
    "          \"The average silhouette_score is :\", silhouette_avg)\n",
    "\n",
    "    # Compute the silhouette scores for each sample\n",
    "    sample_silhouette_values = silhouette_samples(X, cluster_labels)\n",
    "\n",
    "    y_lower = 10\n",
    "    for i in range(n_clusters):\n",
    "        # Aggregate the silhouette scores for samples belonging to\n",
    "        # cluster i, and sort them\n",
    "        ith_cluster_silhouette_values = \\\n",
    "            sample_silhouette_values[cluster_labels == i]\n",
    "\n",
    "        ith_cluster_silhouette_values.sort()\n",
    "\n",
    "        size_cluster_i = ith_cluster_silhouette_values.shape[0]\n",
    "        y_upper = y_lower + size_cluster_i\n",
    "\n",
    "        color = cm.nipy_spectral(float(i) / n_clusters)\n",
    "        ax1.fill_betweenx(np.arange(y_lower, y_upper),\n",
    "                          0, ith_cluster_silhouette_values,\n",
    "                          facecolor=color, edgecolor=color, alpha=0.7)\n",
    "\n",
    "        # Label the silhouette plots with their cluster numbers at the middle\n",
    "        ax1.text(-0.05, y_lower + 0.5 * size_cluster_i, str(i))\n",
    "\n",
    "        # Compute the new y_lower for next plot\n",
    "        y_lower = y_upper + 10  # 10 for the 0 samples\n",
    "\n",
    "    ax1.set_title(\"The silhouette plot for the various clusters.\")\n",
    "    ax1.set_xlabel(\"The silhouette coefficient values\")\n",
    "    ax1.set_ylabel(\"Cluster label\")\n",
    "\n",
    "    # The vertical line for average silhouette score of all the values\n",
    "    ax1.axvline(x=silhouette_avg, color=\"red\", linestyle=\"--\")\n",
    "\n",
    "    ax1.set_yticks([])  # Clear the yaxis labels / ticks\n",
    "    ax1.set_xticks([-0.1, 0, 0.2, 0.4, 0.6, 0.8, 1])\n",
    "\n",
    "    # 2nd Plot showing the actual clusters formed\n",
    "    colors = cm.nipy_spectral(cluster_labels.astype(float) / n_clusters)\n",
    "    ax2.scatter(X.values[:, 0], X.values[:, 1], marker='.', s=30, lw=0, alpha=0.7,\n",
    "                c=colors, edgecolor='k')\n",
    "\n",
    "    # Labeling the clusters\n",
    "    centers = clusterer.cluster_centers_\n",
    "    # Draw white circles at cluster centers\n",
    "    ax2.scatter(centers[:, 0], centers[:, 1], marker='o',\n",
    "                c=\"white\", alpha=1, s=200, edgecolor='k')\n",
    "\n",
    "    for i, c in enumerate(centers):\n",
    "        ax2.scatter(c[0], c[1], marker='$%d$' % i, alpha=1,\n",
    "                    s=50, edgecolor='k')\n",
    "\n",
    "    ax2.set_title(\"The visualization of the clustered data.\")\n",
    "    ax2.set_xlabel(\"Feature space for the 1st feature\")\n",
    "    ax2.set_ylabel(\"Feature space for the 2nd feature\")\n",
    "\n",
    "    plt.suptitle((\"Silhouette analysis for KMeans clustering on sample data \"\n",
    "                  \"with n_clusters = %d\" % n_clusters),\n",
    "                 fontsize=14, fontweight='bold')"
   ]
  },
  {
   "cell_type": "markdown",
   "metadata": {},
   "source": [
    "#### Content-based"
   ]
  },
  {
   "cell_type": "code",
   "execution_count": 83,
   "metadata": {},
   "outputs": [
    {
     "data": {
      "text/plain": [
       "NearestNeighbors(algorithm='brute', leaf_size=30, metric='cosine',\n",
       "         metric_params=None, n_jobs=None, n_neighbors=5, p=2, radius=1.0)"
      ]
     },
     "execution_count": 83,
     "metadata": {},
     "output_type": "execute_result"
    }
   ],
   "source": [
    "movie_feature_mat = movies.iloc[:,2:]\n",
    "\n",
    "movie_feature_to_idx = {\n",
    "    i: movie for i, movie in \n",
    "    enumerate(list(movies_raw.set_index('movieId').loc[movies.movieId].title))\n",
    "}\n",
    "\n",
    "movie_feature_mat_sparse = csr_matrix(movie_feature_mat.values)\n",
    "\n",
    "# define model\n",
    "NN_cos_feature = NearestNeighbors(metric='cosine', algorithm='brute')\n",
    "\n",
    "# fit\n",
    "NN_cos_feature.fit(movie_feature_mat_sparse)"
   ]
  },
  {
   "cell_type": "code",
   "execution_count": 99,
   "metadata": {
    "scrolled": true
   },
   "outputs": [
    {
     "name": "stdout",
     "output_type": "stream",
     "text": [
      "If you liked *Stepfather II (1989)*, you might also like:\n",
      "\n",
      "1: Child's Play 2 (1990), with similarity score of 0.11632292724744109\n",
      "2: Psycho III (1986), with similarity score of 0.11733792119260478\n",
      "3: Halloween: The Curse of Michael Myers (Halloween 6: The Curse of Michael Myers) (1995), with similarity score of 0.1245249073680077\n",
      "4: Children of the Corn IV: The Gathering (1996), with similarity score of 0.15550727274309284\n"
     ]
    }
   ],
   "source": [
    "# change it to cosine similarity \n",
    "query_index=np.random.choice(movie_feature_mat.shape[0])\n",
    "distances, indices = NN_cos_feature.kneighbors(movie_feature_mat.iloc[query_index,:].values.reshape(1,-1))\n",
    "\n",
    "for i in range(0, len(distances.flatten())):\n",
    "    if i == 0:\n",
    "        print(\"If you liked *{0}*, you might also like:\\n\".format(movie_feature_to_idx.get(movie_feature_mat.index[query_index])))\n",
    "    else: \n",
    "        print('{0}: {1}, with similarity score of {2}'.format(i, movie_feature_to_idx.get(movie_feature_mat.index[indices.flatten()[i]]),distances.flatten()[i]))"
   ]
  },
  {
   "cell_type": "code",
   "execution_count": 100,
   "metadata": {
    "scrolled": true
   },
   "outputs": [
    {
     "name": "stdout",
     "output_type": "stream",
     "text": [
      "Child's Play 2 (1990), with distance of 0.11632292724744109\n"
     ]
    }
   ],
   "source": [
    "movie_feature_to_idx.get(movie_feature_mat.index[1])\n",
    "print('{0}, with distance of {1}'.format(movie_feature_to_idx.get(movie_feature_mat.index[indices.flatten()[1]]),distances.flatten()[1]))"
   ]
  },
  {
   "cell_type": "markdown",
   "metadata": {},
   "source": [
    "#### Evaluation II"
   ]
  },
  {
   "cell_type": "code",
   "execution_count": 213,
   "metadata": {},
   "outputs": [
    {
     "name": "stdout",
     "output_type": "stream",
     "text": [
      "For n_clusters = 3 The average silhouette_score is : 0.07410225432406302\n",
      "For n_clusters = 4 The average silhouette_score is : 0.06445806171589429\n",
      "For n_clusters = 5 The average silhouette_score is : 0.07494724305163554\n",
      "For n_clusters = 7 The average silhouette_score is : 0.06397409050457016\n",
      "For n_clusters = 9 The average silhouette_score is : 0.06999511555497398\n"
     ]
    },
    {
     "data": {
      "image/png": "[encoded data removed]",
      "text/plain": [
       "<Figure size 1296x504 with 2 Axes>"
      ]
     },
     "metadata": {
      "needs_background": "light"
     },
     "output_type": "display_data"
    },
    {
     "data": {
      "image/png": "[encoded data removed]",
      "text/plain": [
       "<Figure size 1296x504 with 2 Axes>"
      ]
     },
     "metadata": {
      "needs_background": "light"
     },
     "output_type": "display_data"
    },
    {
     "data": {
      "image/png": "[encoded data removed]",
      "text/plain": [
       "<Figure size 1296x504 with 2 Axes>"
      ]
     },
     "metadata": {
      "needs_background": "light"
     },
     "output_type": "display_data"
    },
    {
     "data": {
      "image/png": "[encoded data removed]",
      "text/plain": [
       "<Figure size 1296x504 with 2 Axes>"
      ]
     },
     "metadata": {
      "needs_background": "light"
     },
     "output_type": "display_data"
    },
    {
     "data": {
      "image/png": "[encoded data removed]",
      "text/plain": [
       "<Figure size 1296x504 with 2 Axes>"
      ]
     },
     "metadata": {
      "needs_background": "light"
     },
     "output_type": "display_data"
    }
   ],
   "source": [
    "from sklearn.cluster import KMeans\n",
    "from sklearn.metrics import silhouette_samples, silhouette_score\n",
    "import matplotlib.cm as cm\n",
    "\n",
    "range_n_clusters = [3, 4, 5, 7, 9]\n",
    "X=movie_feature_mat\n",
    "\n",
    "for n_clusters in range_n_clusters:\n",
    "    # Create a subplot with 1 row and 2 columns\n",
    "    fig, (ax1, ax2) = plt.subplots(1, 2)\n",
    "    fig.set_size_inches(18, 7)\n",
    "\n",
    "    # The 1st subplot is the silhouette plot\n",
    "    # The silhouette coefficient can range from -1, 1 but in this example all\n",
    "    # lie within [-0.1, 1]\n",
    "    ax1.set_xlim([-0.1, 1])\n",
    "    # The (n_clusters+1)*10 is for inserting blank space between silhouette\n",
    "    # plots of individual clusters, to demarcate them clearly.\n",
    "    ax1.set_ylim([0, len(X) + (n_clusters + 1) * 10])\n",
    "\n",
    "    # Initialize the clusterer with n_clusters value and a random generator\n",
    "    # seed of 10 for reproducibility.\n",
    "    clusterer = KMeans(n_clusters=n_clusters, random_state=10)\n",
    "    cluster_labels = clusterer.fit_predict(X)\n",
    "\n",
    "    # The silhouette_score gives the average value for all the samples.\n",
    "    # This gives a perspective into the density and separation of the formed\n",
    "    # clusters\n",
    "    silhouette_avg = silhouette_score(X, cluster_labels)\n",
    "    print(\"For n_clusters =\", n_clusters,\n",
    "          \"The average silhouette_score is :\", silhouette_avg)\n",
    "\n",
    "    # Compute the silhouette scores for each sample\n",
    "    sample_silhouette_values = silhouette_samples(X, cluster_labels)\n",
    "\n",
    "    y_lower = 10\n",
    "    for i in range(n_clusters):\n",
    "        # Aggregate the silhouette scores for samples belonging to\n",
    "        # cluster i, and sort them\n",
    "        ith_cluster_silhouette_values = \\\n",
    "            sample_silhouette_values[cluster_labels == i]\n",
    "\n",
    "        ith_cluster_silhouette_values.sort()\n",
    "\n",
    "        size_cluster_i = ith_cluster_silhouette_values.shape[0]\n",
    "        y_upper = y_lower + size_cluster_i\n",
    "\n",
    "        color = cm.nipy_spectral(float(i) / n_clusters)\n",
    "        ax1.fill_betweenx(np.arange(y_lower, y_upper),\n",
    "                          0, ith_cluster_silhouette_values,\n",
    "                          facecolor=color, edgecolor=color, alpha=0.7)\n",
    "\n",
    "        # Label the silhouette plots with their cluster numbers at the middle\n",
    "        ax1.text(-0.05, y_lower + 0.5 * size_cluster_i, str(i))\n",
    "\n",
    "        # Compute the new y_lower for next plot\n",
    "        y_lower = y_upper + 10  # 10 for the 0 samples\n",
    "\n",
    "    ax1.set_title(\"The silhouette plot for the various clusters.\")\n",
    "    ax1.set_xlabel(\"The silhouette coefficient values\")\n",
    "    ax1.set_ylabel(\"Cluster label\")\n",
    "\n",
    "    # The vertical line for average silhouette score of all the values\n",
    "    ax1.axvline(x=silhouette_avg, color=\"red\", linestyle=\"--\")\n",
    "\n",
    "    ax1.set_yticks([])  # Clear the yaxis labels / ticks\n",
    "    ax1.set_xticks([-0.1, 0, 0.2, 0.4, 0.6, 0.8, 1])\n",
    "\n",
    "    # 2nd Plot showing the actual clusters formed\n",
    "    colors = cm.nipy_spectral(cluster_labels.astype(float) / n_clusters)\n",
    "    ax2.scatter(X.values[:, 0], X.values[:, 1], marker='.', s=30, lw=0, alpha=0.7,\n",
    "                c=colors, edgecolor='k')\n",
    "\n",
    "    # Labeling the clusters\n",
    "    centers = clusterer.cluster_centers_\n",
    "    # Draw white circles at cluster centers\n",
    "    ax2.scatter(centers[:, 0], centers[:, 1], marker='o',\n",
    "                c=\"white\", alpha=1, s=200, edgecolor='k')\n",
    "\n",
    "    for i, c in enumerate(centers):\n",
    "        ax2.scatter(c[0], c[1], marker='$%d$' % i, alpha=1,\n",
    "                    s=50, edgecolor='k')\n",
    "\n",
    "    ax2.set_title(\"The visualization of the clustered data.\")\n",
    "    ax2.set_xlabel(\"Feature space for the 1st feature\")\n",
    "    ax2.set_ylabel(\"Feature space for the 2nd feature\")\n",
    "\n",
    "    plt.suptitle((\"Silhouette analysis for KMeans clustering on sample data \"\n",
    "                  \"with n_clusters = %d\" % n_clusters),\n",
    "                 fontsize=14, fontweight='bold')"
   ]
  },
  {
   "cell_type": "markdown",
   "metadata": {},
   "source": [
    "### Keras\n",
    "\n",
    "#### Using Ratings"
   ]
  },
  {
   "cell_type": "code",
   "execution_count": 169,
   "metadata": {
    "scrolled": true
   },
   "outputs": [
    {
     "data": {
      "text/plain": [
       "(175997, 3)"
      ]
     },
     "execution_count": 169,
     "metadata": {},
     "output_type": "execute_result"
    }
   ],
   "source": [
    "keras_train=dfs[0]\n",
    "keras_train.shape"
   ]
  },
  {
   "cell_type": "code",
   "execution_count": 170,
   "metadata": {},
   "outputs": [
    {
     "data": {
      "text/plain": [
       "userId\n",
       "133330    318\n",
       "45721     311\n",
       "10651     300\n",
       "27157     272\n",
       "52054     248\n",
       "65737     212\n",
       "330       203\n",
       "83510     201\n",
       "136362    193\n",
       "106883    180\n",
       "Name: rating, dtype: int64"
      ]
     },
     "execution_count": 170,
     "metadata": {},
     "output_type": "execute_result"
    }
   ],
   "source": [
    "keras_train.groupby(by='userId')['rating'].count().sort_values(ascending=False).head(10)"
   ]
  },
  {
   "cell_type": "code",
   "execution_count": 200,
   "metadata": {},
   "outputs": [
    {
     "data": {
      "text/html": [
       "<div>\n",
       "<style scoped>\n",
       "    .dataframe tbody tr th:only-of-type {\n",
       "        vertical-align: middle;\n",
       "    }\n",
       "\n",
       "    .dataframe tbody tr th {\n",
       "        vertical-align: top;\n",
       "    }\n",
       "\n",
       "    .dataframe thead th {\n",
       "        text-align: right;\n",
       "    }\n",
       "</style>\n",
       "<table border=\"1\" class=\"dataframe\">\n",
       "  <thead>\n",
       "    <tr style=\"text-align: right;\">\n",
       "      <th></th>\n",
       "      <th>userId</th>\n",
       "      <th>movieId</th>\n",
       "      <th>rating</th>\n",
       "    </tr>\n",
       "  </thead>\n",
       "  <tbody>\n",
       "    <tr>\n",
       "      <th>0</th>\n",
       "      <td>779</td>\n",
       "      <td>439</td>\n",
       "      <td>4.0</td>\n",
       "    </tr>\n",
       "    <tr>\n",
       "      <th>1</th>\n",
       "      <td>3593</td>\n",
       "      <td>438</td>\n",
       "      <td>3.0</td>\n",
       "    </tr>\n",
       "    <tr>\n",
       "      <th>2</th>\n",
       "      <td>3593</td>\n",
       "      <td>42</td>\n",
       "      <td>5.0</td>\n",
       "    </tr>\n",
       "    <tr>\n",
       "      <th>3</th>\n",
       "      <td>3593</td>\n",
       "      <td>20</td>\n",
       "      <td>3.0</td>\n",
       "    </tr>\n",
       "    <tr>\n",
       "      <th>4</th>\n",
       "      <td>2309</td>\n",
       "      <td>23</td>\n",
       "      <td>3.0</td>\n",
       "    </tr>\n",
       "  </tbody>\n",
       "</table>\n",
       "</div>"
      ],
      "text/plain": [
       "   userId  movieId  rating\n",
       "0     779      439     4.0\n",
       "1    3593      438     3.0\n",
       "2    3593       42     5.0\n",
       "3    3593       20     3.0\n",
       "4    2309       23     3.0"
      ]
     },
     "execution_count": 200,
     "metadata": {},
     "output_type": "execute_result"
    }
   ],
   "source": [
    "keras_train.head()"
   ]
  },
  {
   "cell_type": "code",
   "execution_count": 171,
   "metadata": {
    "scrolled": true
   },
   "outputs": [
    {
     "name": "stderr",
     "output_type": "stream",
     "text": [
      "/anaconda3/lib/python3.7/site-packages/ipykernel_launcher.py:1: SettingWithCopyWarning: \n",
      "A value is trying to be set on a copy of a slice from a DataFrame.\n",
      "Try using .loc[row_indexer,col_indexer] = value instead\n",
      "\n",
      "See the caveats in the documentation: http://pandas.pydata.org/pandas-docs/stable/indexing.html#indexing-view-versus-copy\n",
      "  \"\"\"Entry point for launching an IPython kernel.\n",
      "/anaconda3/lib/python3.7/site-packages/pandas/core/generic.py:4405: SettingWithCopyWarning: \n",
      "A value is trying to be set on a copy of a slice from a DataFrame.\n",
      "Try using .loc[row_indexer,col_indexer] = value instead\n",
      "\n",
      "See the caveats in the documentation: http://pandas.pydata.org/pandas-docs/stable/indexing.html#indexing-view-versus-copy\n",
      "  self[name] = value\n"
     ]
    }
   ],
   "source": [
    "keras_train['userId']= keras_train['userId'].astype('category').cat.codes.values\n",
    "keras_train.movieId = keras_train.movieId.astype('category').cat.codes.values\n",
    "\n",
    "n_users = len(keras_train.userId.unique())\n",
    "n_movies = len(keras_train.movieId.unique())"
   ]
  },
  {
   "cell_type": "markdown",
   "metadata": {},
   "source": [
    "##### Embedding Method with loss as MSE"
   ]
  },
  {
   "cell_type": "code",
   "execution_count": 172,
   "metadata": {},
   "outputs": [
    {
     "name": "stdout",
     "output_type": "stream",
     "text": [
      "WARNING:tensorflow:From /anaconda3/lib/python3.7/site-packages/tensorflow/python/framework/op_def_library.py:263: colocate_with (from tensorflow.python.framework.ops) is deprecated and will be removed in a future version.\n",
      "Instructions for updating:\n",
      "Colocations handled automatically by placer.\n"
     ]
    }
   ],
   "source": [
    "import keras\n",
    "from IPython.display import SVG\n",
    "from keras.optimizers import Adam\n",
    "from keras.utils.vis_utils import model_to_dot\n",
    "\n",
    "movie_input = keras.layers.Input(shape=[1],name='Item')\n",
    "movie_embedding = keras.layers.Embedding(n_movies + 1, 6, name='Movie-Embedding')(movie_input)\n",
    "movie_vec = keras.layers.Flatten(name='FlattenMovies')(movie_embedding)\n",
    "\n",
    "user_input = keras.layers.Input(shape=[1],name='User')\n",
    "user_vec = keras.layers.Flatten(name='FlattenUsers')(keras.layers.Embedding(n_users + 1, 6, name='User-Embedding')(user_input))\n",
    "\n",
    "prod = Dot(name=\"Dot-Product\", axes=1)([movie_vec, user_vec])\n",
    "model = keras.Model([user_input, movie_input], prod)\n",
    "model.compile('adam', 'mean_squared_error')"
   ]
  },
  {
   "cell_type": "code",
   "execution_count": 173,
   "metadata": {},
   "outputs": [
    {
     "name": "stdout",
     "output_type": "stream",
     "text": [
      "__________________________________________________________________________________________________\n",
      "Layer (type)                    Output Shape         Param #     Connected to                     \n",
      "==================================================================================================\n",
      "Item (InputLayer)               (None, 1)            0                                            \n",
      "__________________________________________________________________________________________________\n",
      "User (InputLayer)               (None, 1)            0                                            \n",
      "__________________________________________________________________________________________________\n",
      "Movie-Embedding (Embedding)     (None, 1, 6)         2646        Item[0][0]                       \n",
      "__________________________________________________________________________________________________\n",
      "User-Embedding (Embedding)      (None, 1, 6)         22794       User[0][0]                       \n",
      "__________________________________________________________________________________________________\n",
      "FlattenMovies (Flatten)         (None, 6)            0           Movie-Embedding[0][0]            \n",
      "__________________________________________________________________________________________________\n",
      "FlattenUsers (Flatten)          (None, 6)            0           User-Embedding[0][0]             \n",
      "__________________________________________________________________________________________________\n",
      "Dot-Product (Dot)               (None, 1)            0           FlattenMovies[0][0]              \n",
      "                                                                 FlattenUsers[0][0]               \n",
      "==================================================================================================\n",
      "Total params: 25,440\n",
      "Trainable params: 25,440\n",
      "Non-trainable params: 0\n",
      "__________________________________________________________________________________________________\n"
     ]
    }
   ],
   "source": [
    "model.summary()"
   ]
  },
  {
   "cell_type": "code",
   "execution_count": 174,
   "metadata": {},
   "outputs": [
    {
     "name": "stdout",
     "output_type": "stream",
     "text": [
      "WARNING:tensorflow:From /anaconda3/lib/python3.7/site-packages/tensorflow/python/ops/math_ops.py:3066: to_int32 (from tensorflow.python.ops.math_ops) is deprecated and will be removed in a future version.\n",
      "Instructions for updating:\n",
      "Use tf.cast instead.\n"
     ]
    }
   ],
   "source": [
    "history = model.fit([keras_train.userId, keras_train.movieId], keras_train.rating, epochs=5, verbose=0)"
   ]
  },
  {
   "cell_type": "code",
   "execution_count": 175,
   "metadata": {},
   "outputs": [
    {
     "data": {
      "text/plain": [
       "Text(0, 0.5, 'Train Error')"
      ]
     },
     "execution_count": 175,
     "metadata": {},
     "output_type": "execute_result"
    },
    {
     "data": {
      "image/png": "[encoded data removed]",
      "text/plain": [
       "<Figure size 432x288 with 1 Axes>"
      ]
     },
     "metadata": {
      "needs_background": "light"
     },
     "output_type": "display_data"
    }
   ],
   "source": [
    "pd.Series(history.history['loss']).plot(logy=True)\n",
    "plt.xlabel(\"Epoch\")\n",
    "plt.ylabel(\"Train Error\")"
   ]
  },
  {
   "cell_type": "code",
   "execution_count": 182,
   "metadata": {},
   "outputs": [],
   "source": [
    "y_hat = np.round(model.predict([keras_train.userId, keras_train.movieId]),0)\n",
    "y_true = keras_train.rating"
   ]
  },
  {
   "cell_type": "code",
   "execution_count": 183,
   "metadata": {},
   "outputs": [
    {
     "name": "stdout",
     "output_type": "stream",
     "text": [
      "MAE for Keras I:\n",
      " 0.6198060194207856\n",
      "\n",
      "RMSE for Keras I:\n",
      " 0.8257186202037535\n"
     ]
    }
   ],
   "source": [
    "print(\"MAE for Keras I:\\n\", mean_absolute_error(y_true, y_hat))\n",
    "print(\"\\nRMSE for Keras I:\\n\",mean_squared_error(y_true, y_hat))"
   ]
  },
  {
   "cell_type": "code",
   "execution_count": null,
   "metadata": {},
   "outputs": [],
   "source": []
  },
  {
   "cell_type": "code",
   "execution_count": 186,
   "metadata": {},
   "outputs": [
    {
     "data": {
      "text/plain": [
       "TensorShape([Dimension(None), Dimension(1), Dimension(6)])"
      ]
     },
     "execution_count": 186,
     "metadata": {},
     "output_type": "execute_result"
    }
   ],
   "source": [
    "movie_embedding.shape"
   ]
  },
  {
   "cell_type": "code",
   "execution_count": 188,
   "metadata": {},
   "outputs": [
    {
     "data": {
      "text/html": [
       "<div>\n",
       "<style scoped>\n",
       "    .dataframe tbody tr th:only-of-type {\n",
       "        vertical-align: middle;\n",
       "    }\n",
       "\n",
       "    .dataframe tbody tr th {\n",
       "        vertical-align: top;\n",
       "    }\n",
       "\n",
       "    .dataframe thead th {\n",
       "        text-align: right;\n",
       "    }\n",
       "</style>\n",
       "<table border=\"1\" class=\"dataframe\">\n",
       "  <thead>\n",
       "    <tr style=\"text-align: right;\">\n",
       "      <th></th>\n",
       "      <th>userId</th>\n",
       "      <th>movieId</th>\n",
       "      <th>rating</th>\n",
       "    </tr>\n",
       "  </thead>\n",
       "  <tbody>\n",
       "    <tr>\n",
       "      <th>0</th>\n",
       "      <td>779</td>\n",
       "      <td>439</td>\n",
       "      <td>4.0</td>\n",
       "    </tr>\n",
       "    <tr>\n",
       "      <th>1</th>\n",
       "      <td>3593</td>\n",
       "      <td>438</td>\n",
       "      <td>3.0</td>\n",
       "    </tr>\n",
       "    <tr>\n",
       "      <th>2</th>\n",
       "      <td>3593</td>\n",
       "      <td>42</td>\n",
       "      <td>5.0</td>\n",
       "    </tr>\n",
       "  </tbody>\n",
       "</table>\n",
       "</div>"
      ],
      "text/plain": [
       "   userId  movieId  rating\n",
       "0     779      439     4.0\n",
       "1    3593      438     3.0\n",
       "2    3593       42     5.0"
      ]
     },
     "execution_count": 188,
     "metadata": {},
     "output_type": "execute_result"
    }
   ],
   "source": [
    "keras_train.head(3)"
   ]
  },
  {
   "cell_type": "code",
   "execution_count": 203,
   "metadata": {},
   "outputs": [
    {
     "data": {
      "text/html": [
       "<div>\n",
       "<style scoped>\n",
       "    .dataframe tbody tr th:only-of-type {\n",
       "        vertical-align: middle;\n",
       "    }\n",
       "\n",
       "    .dataframe tbody tr th {\n",
       "        vertical-align: top;\n",
       "    }\n",
       "\n",
       "    .dataframe thead th {\n",
       "        text-align: right;\n",
       "    }\n",
       "</style>\n",
       "<table border=\"1\" class=\"dataframe\">\n",
       "  <thead>\n",
       "    <tr style=\"text-align: right;\">\n",
       "      <th></th>\n",
       "      <th>userId</th>\n",
       "      <th>movieId</th>\n",
       "      <th>rating</th>\n",
       "      <th>0</th>\n",
       "      <th>1</th>\n",
       "      <th>2</th>\n",
       "      <th>3</th>\n",
       "      <th>4</th>\n",
       "      <th>5</th>\n",
       "      <th>6</th>\n",
       "      <th>...</th>\n",
       "      <th>90</th>\n",
       "      <th>91</th>\n",
       "      <th>92</th>\n",
       "      <th>93</th>\n",
       "      <th>94</th>\n",
       "      <th>95</th>\n",
       "      <th>96</th>\n",
       "      <th>97</th>\n",
       "      <th>98</th>\n",
       "      <th>99</th>\n",
       "    </tr>\n",
       "  </thead>\n",
       "  <tbody>\n",
       "    <tr>\n",
       "      <th>0</th>\n",
       "      <td>779</td>\n",
       "      <td>439</td>\n",
       "      <td>4.0</td>\n",
       "      <td>-1.695000</td>\n",
       "      <td>-0.710136</td>\n",
       "      <td>-0.304899</td>\n",
       "      <td>-0.253855</td>\n",
       "      <td>-0.395847</td>\n",
       "      <td>0.454213</td>\n",
       "      <td>-0.447654</td>\n",
       "      <td>...</td>\n",
       "      <td>-0.049954</td>\n",
       "      <td>0.028675</td>\n",
       "      <td>0.082979</td>\n",
       "      <td>-0.258492</td>\n",
       "      <td>-0.101622</td>\n",
       "      <td>-0.041439</td>\n",
       "      <td>0.132714</td>\n",
       "      <td>0.121986</td>\n",
       "      <td>0.045699</td>\n",
       "      <td>0.006553</td>\n",
       "    </tr>\n",
       "    <tr>\n",
       "      <th>1</th>\n",
       "      <td>3593</td>\n",
       "      <td>438</td>\n",
       "      <td>3.0</td>\n",
       "      <td>-1.515365</td>\n",
       "      <td>0.126889</td>\n",
       "      <td>0.229816</td>\n",
       "      <td>-0.486530</td>\n",
       "      <td>0.434564</td>\n",
       "      <td>-0.066199</td>\n",
       "      <td>0.023190</td>\n",
       "      <td>...</td>\n",
       "      <td>-0.169314</td>\n",
       "      <td>-0.018118</td>\n",
       "      <td>0.219043</td>\n",
       "      <td>-0.079157</td>\n",
       "      <td>-0.136534</td>\n",
       "      <td>0.099782</td>\n",
       "      <td>0.011402</td>\n",
       "      <td>-0.059163</td>\n",
       "      <td>-0.155068</td>\n",
       "      <td>-0.032538</td>\n",
       "    </tr>\n",
       "    <tr>\n",
       "      <th>2</th>\n",
       "      <td>3593</td>\n",
       "      <td>42</td>\n",
       "      <td>5.0</td>\n",
       "      <td>0.145001</td>\n",
       "      <td>0.197085</td>\n",
       "      <td>-0.737844</td>\n",
       "      <td>-1.153895</td>\n",
       "      <td>0.245390</td>\n",
       "      <td>-0.261671</td>\n",
       "      <td>-1.250918</td>\n",
       "      <td>...</td>\n",
       "      <td>-0.201122</td>\n",
       "      <td>-0.078342</td>\n",
       "      <td>0.184842</td>\n",
       "      <td>-0.009049</td>\n",
       "      <td>-0.055049</td>\n",
       "      <td>-0.020833</td>\n",
       "      <td>0.054223</td>\n",
       "      <td>0.112207</td>\n",
       "      <td>-0.171785</td>\n",
       "      <td>0.025373</td>\n",
       "    </tr>\n",
       "    <tr>\n",
       "      <th>3</th>\n",
       "      <td>2708</td>\n",
       "      <td>42</td>\n",
       "      <td>5.0</td>\n",
       "      <td>0.145001</td>\n",
       "      <td>0.197085</td>\n",
       "      <td>-0.737844</td>\n",
       "      <td>-1.153895</td>\n",
       "      <td>0.245390</td>\n",
       "      <td>-0.261671</td>\n",
       "      <td>-1.250918</td>\n",
       "      <td>...</td>\n",
       "      <td>-0.201122</td>\n",
       "      <td>-0.078342</td>\n",
       "      <td>0.184842</td>\n",
       "      <td>-0.009049</td>\n",
       "      <td>-0.055049</td>\n",
       "      <td>-0.020833</td>\n",
       "      <td>0.054223</td>\n",
       "      <td>0.112207</td>\n",
       "      <td>-0.171785</td>\n",
       "      <td>0.025373</td>\n",
       "    </tr>\n",
       "    <tr>\n",
       "      <th>4</th>\n",
       "      <td>3388</td>\n",
       "      <td>42</td>\n",
       "      <td>5.0</td>\n",
       "      <td>0.145001</td>\n",
       "      <td>0.197085</td>\n",
       "      <td>-0.737844</td>\n",
       "      <td>-1.153895</td>\n",
       "      <td>0.245390</td>\n",
       "      <td>-0.261671</td>\n",
       "      <td>-1.250918</td>\n",
       "      <td>...</td>\n",
       "      <td>-0.201122</td>\n",
       "      <td>-0.078342</td>\n",
       "      <td>0.184842</td>\n",
       "      <td>-0.009049</td>\n",
       "      <td>-0.055049</td>\n",
       "      <td>-0.020833</td>\n",
       "      <td>0.054223</td>\n",
       "      <td>0.112207</td>\n",
       "      <td>-0.171785</td>\n",
       "      <td>0.025373</td>\n",
       "    </tr>\n",
       "  </tbody>\n",
       "</table>\n",
       "<p>5 rows × 103 columns</p>\n",
       "</div>"
      ],
      "text/plain": [
       "   userId  movieId  rating         0         1         2         3         4  \\\n",
       "0     779      439     4.0 -1.695000 -0.710136 -0.304899 -0.253855 -0.395847   \n",
       "1    3593      438     3.0 -1.515365  0.126889  0.229816 -0.486530  0.434564   \n",
       "2    3593       42     5.0  0.145001  0.197085 -0.737844 -1.153895  0.245390   \n",
       "3    2708       42     5.0  0.145001  0.197085 -0.737844 -1.153895  0.245390   \n",
       "4    3388       42     5.0  0.145001  0.197085 -0.737844 -1.153895  0.245390   \n",
       "\n",
       "          5         6    ...           90        91        92        93  \\\n",
       "0  0.454213 -0.447654    ...    -0.049954  0.028675  0.082979 -0.258492   \n",
       "1 -0.066199  0.023190    ...    -0.169314 -0.018118  0.219043 -0.079157   \n",
       "2 -0.261671 -1.250918    ...    -0.201122 -0.078342  0.184842 -0.009049   \n",
       "3 -0.261671 -1.250918    ...    -0.201122 -0.078342  0.184842 -0.009049   \n",
       "4 -0.261671 -1.250918    ...    -0.201122 -0.078342  0.184842 -0.009049   \n",
       "\n",
       "         94        95        96        97        98        99  \n",
       "0 -0.101622 -0.041439  0.132714  0.121986  0.045699  0.006553  \n",
       "1 -0.136534  0.099782  0.011402 -0.059163 -0.155068 -0.032538  \n",
       "2 -0.055049 -0.020833  0.054223  0.112207 -0.171785  0.025373  \n",
       "3 -0.055049 -0.020833  0.054223  0.112207 -0.171785  0.025373  \n",
       "4 -0.055049 -0.020833  0.054223  0.112207 -0.171785  0.025373  \n",
       "\n",
       "[5 rows x 103 columns]"
      ]
     },
     "execution_count": 203,
     "metadata": {},
     "output_type": "execute_result"
    }
   ],
   "source": [
    "pd.merge(keras_train, tags_pca, on='movieId').head()"
   ]
  },
  {
   "cell_type": "code",
   "execution_count": null,
   "metadata": {},
   "outputs": [],
   "source": []
  },
  {
   "cell_type": "code",
   "execution_count": null,
   "metadata": {},
   "outputs": [],
   "source": []
  },
  {
   "cell_type": "code",
   "execution_count": null,
   "metadata": {},
   "outputs": [],
   "source": []
  },
  {
   "cell_type": "code",
   "execution_count": null,
   "metadata": {},
   "outputs": [],
   "source": []
  },
  {
   "cell_type": "markdown",
   "metadata": {},
   "source": [
    "*I first built the Keras model below, but my kernel kept dying. I moved on to building another one shown above.*"
   ]
  },
  {
   "cell_type": "code",
   "execution_count": 71,
   "metadata": {},
   "outputs": [],
   "source": [
    "keras_pivot=keras_train.pivot(index='userId', columns='movieId', values='rating').fillna(0)"
   ]
  },
  {
   "cell_type": "code",
   "execution_count": 72,
   "metadata": {},
   "outputs": [
    {
     "data": {
      "text/plain": [
       "(6697, 447)"
      ]
     },
     "execution_count": 72,
     "metadata": {},
     "output_type": "execute_result"
    }
   ],
   "source": [
    "keras_pivot.shape"
   ]
  },
  {
   "cell_type": "code",
   "execution_count": 73,
   "metadata": {},
   "outputs": [
    {
     "data": {
      "text/plain": [
       "movieId\n",
       "1176    4.0\n",
       "1079    3.0\n",
       "518     3.0\n",
       "504     1.0\n",
       "436     1.0\n",
       "dtype: float64"
      ]
     },
     "execution_count": 73,
     "metadata": {},
     "output_type": "execute_result"
    }
   ],
   "source": [
    "keras_pivot.sum().sort_values(ascending=False).tail(5)"
   ]
  },
  {
   "cell_type": "code",
   "execution_count": 74,
   "metadata": {},
   "outputs": [
    {
     "data": {
      "text/html": [
       "<div>\n",
       "<style scoped>\n",
       "    .dataframe tbody tr th:only-of-type {\n",
       "        vertical-align: middle;\n",
       "    }\n",
       "\n",
       "    .dataframe tbody tr th {\n",
       "        vertical-align: top;\n",
       "    }\n",
       "\n",
       "    .dataframe thead th {\n",
       "        text-align: right;\n",
       "    }\n",
       "</style>\n",
       "<table border=\"1\" class=\"dataframe\">\n",
       "  <thead>\n",
       "    <tr style=\"text-align: right;\">\n",
       "      <th>movieId</th>\n",
       "      <th>1</th>\n",
       "      <th>2</th>\n",
       "      <th>3</th>\n",
       "      <th>4</th>\n",
       "      <th>5</th>\n",
       "      <th>6</th>\n",
       "      <th>7</th>\n",
       "      <th>8</th>\n",
       "      <th>9</th>\n",
       "      <th>10</th>\n",
       "      <th>...</th>\n",
       "      <th>748</th>\n",
       "      <th>750</th>\n",
       "      <th>761</th>\n",
       "      <th>765</th>\n",
       "      <th>766</th>\n",
       "      <th>778</th>\n",
       "      <th>781</th>\n",
       "      <th>784</th>\n",
       "      <th>1079</th>\n",
       "      <th>1176</th>\n",
       "    </tr>\n",
       "    <tr>\n",
       "      <th>userId</th>\n",
       "      <th></th>\n",
       "      <th></th>\n",
       "      <th></th>\n",
       "      <th></th>\n",
       "      <th></th>\n",
       "      <th></th>\n",
       "      <th></th>\n",
       "      <th></th>\n",
       "      <th></th>\n",
       "      <th></th>\n",
       "      <th></th>\n",
       "      <th></th>\n",
       "      <th></th>\n",
       "      <th></th>\n",
       "      <th></th>\n",
       "      <th></th>\n",
       "      <th></th>\n",
       "      <th></th>\n",
       "      <th></th>\n",
       "      <th></th>\n",
       "      <th></th>\n",
       "    </tr>\n",
       "  </thead>\n",
       "  <tbody>\n",
       "    <tr>\n",
       "      <th>8</th>\n",
       "      <td>4.0</td>\n",
       "      <td>0.0</td>\n",
       "      <td>5.0</td>\n",
       "      <td>0.0</td>\n",
       "      <td>0.0</td>\n",
       "      <td>3.0</td>\n",
       "      <td>0.0</td>\n",
       "      <td>0.0</td>\n",
       "      <td>0.0</td>\n",
       "      <td>4.0</td>\n",
       "      <td>...</td>\n",
       "      <td>0.0</td>\n",
       "      <td>0.0</td>\n",
       "      <td>0.0</td>\n",
       "      <td>0.0</td>\n",
       "      <td>0.0</td>\n",
       "      <td>0.0</td>\n",
       "      <td>0.0</td>\n",
       "      <td>0.0</td>\n",
       "      <td>0.0</td>\n",
       "      <td>0.0</td>\n",
       "    </tr>\n",
       "    <tr>\n",
       "      <th>28</th>\n",
       "      <td>0.0</td>\n",
       "      <td>0.0</td>\n",
       "      <td>0.0</td>\n",
       "      <td>0.0</td>\n",
       "      <td>0.0</td>\n",
       "      <td>0.0</td>\n",
       "      <td>0.0</td>\n",
       "      <td>0.0</td>\n",
       "      <td>0.0</td>\n",
       "      <td>0.0</td>\n",
       "      <td>...</td>\n",
       "      <td>0.0</td>\n",
       "      <td>0.0</td>\n",
       "      <td>0.0</td>\n",
       "      <td>0.0</td>\n",
       "      <td>0.0</td>\n",
       "      <td>0.0</td>\n",
       "      <td>0.0</td>\n",
       "      <td>0.0</td>\n",
       "      <td>0.0</td>\n",
       "      <td>0.0</td>\n",
       "    </tr>\n",
       "    <tr>\n",
       "      <th>68</th>\n",
       "      <td>0.0</td>\n",
       "      <td>0.0</td>\n",
       "      <td>0.0</td>\n",
       "      <td>0.0</td>\n",
       "      <td>0.0</td>\n",
       "      <td>0.0</td>\n",
       "      <td>0.0</td>\n",
       "      <td>0.0</td>\n",
       "      <td>0.0</td>\n",
       "      <td>4.0</td>\n",
       "      <td>...</td>\n",
       "      <td>0.0</td>\n",
       "      <td>0.0</td>\n",
       "      <td>0.0</td>\n",
       "      <td>0.0</td>\n",
       "      <td>0.0</td>\n",
       "      <td>0.0</td>\n",
       "      <td>0.0</td>\n",
       "      <td>0.0</td>\n",
       "      <td>0.0</td>\n",
       "      <td>0.0</td>\n",
       "    </tr>\n",
       "  </tbody>\n",
       "</table>\n",
       "<p>3 rows × 447 columns</p>\n",
       "</div>"
      ],
      "text/plain": [
       "movieId  1     2     3     4     5     6     7     8     9     10    ...   \\\n",
       "userId                                                               ...    \n",
       "8         4.0   0.0   5.0   0.0   0.0   3.0   0.0   0.0   0.0   4.0  ...    \n",
       "28        0.0   0.0   0.0   0.0   0.0   0.0   0.0   0.0   0.0   0.0  ...    \n",
       "68        0.0   0.0   0.0   0.0   0.0   0.0   0.0   0.0   0.0   4.0  ...    \n",
       "\n",
       "movieId  748   750   761   765   766   778   781   784   1079  1176  \n",
       "userId                                                               \n",
       "8         0.0   0.0   0.0   0.0   0.0   0.0   0.0   0.0   0.0   0.0  \n",
       "28        0.0   0.0   0.0   0.0   0.0   0.0   0.0   0.0   0.0   0.0  \n",
       "68        0.0   0.0   0.0   0.0   0.0   0.0   0.0   0.0   0.0   0.0  \n",
       "\n",
       "[3 rows x 447 columns]"
      ]
     },
     "execution_count": 74,
     "metadata": {},
     "output_type": "execute_result"
    }
   ],
   "source": [
    "keras_pivot.head(3)"
   ]
  },
  {
   "cell_type": "code",
   "execution_count": 133,
   "metadata": {},
   "outputs": [],
   "source": [
    "X = keras_pivot.iloc[:,:keras_pivot.shape[1]-1]\n",
    "Y = keras_pivot.iloc[:,keras_pivot.shape[1]-1:]"
   ]
  },
  {
   "cell_type": "code",
   "execution_count": 134,
   "metadata": {},
   "outputs": [
    {
     "data": {
      "text/plain": [
       "(6697, 408)"
      ]
     },
     "execution_count": 134,
     "metadata": {},
     "output_type": "execute_result"
    }
   ],
   "source": [
    "X.shape"
   ]
  },
  {
   "cell_type": "code",
   "execution_count": 135,
   "metadata": {},
   "outputs": [
    {
     "data": {
      "text/plain": [
       "(6697, 1)"
      ]
     },
     "execution_count": 135,
     "metadata": {},
     "output_type": "execute_result"
    }
   ],
   "source": [
    "Y.shape"
   ]
  },
  {
   "cell_type": "code",
   "execution_count": 136,
   "metadata": {},
   "outputs": [],
   "source": [
    "(x_train, x_test)=X[(int)(X.shape[0]*0.3):],X[:(int)(X.shape[0]*0.3)]\n",
    "(y_train,y_test)=Y[(int)(Y.shape[0]*0.3):],Y[:(int)(Y.shape[0]*0.3)]"
   ]
  },
  {
   "cell_type": "code",
   "execution_count": 137,
   "metadata": {},
   "outputs": [],
   "source": [
    "y_train=keras.utils.to_categorical(y_train,6)\n",
    "y_test=keras.utils.to_categorical(y_test,6)"
   ]
  },
  {
   "cell_type": "code",
   "execution_count": 138,
   "metadata": {},
   "outputs": [
    {
     "name": "stdout",
     "output_type": "stream",
     "text": [
      "(4688, 6)\n",
      "(4688, 408)\n"
     ]
    }
   ],
   "source": [
    "print(y_train.shape)\n",
    "print(x_train.shape)"
   ]
  },
  {
   "cell_type": "code",
   "execution_count": 139,
   "metadata": {},
   "outputs": [
    {
     "name": "stdout",
     "output_type": "stream",
     "text": [
      "WARNING:tensorflow:From /anaconda3/lib/python3.7/site-packages/keras/backend/tensorflow_backend.py:3445: calling dropout (from tensorflow.python.ops.nn_ops) with keep_prob is deprecated and will be removed in a future version.\n",
      "Instructions for updating:\n",
      "Please use `rate` instead of `keep_prob`. Rate should be set to `rate = 1 - keep_prob`.\n",
      "_________________________________________________________________\n",
      "Layer (type)                 Output Shape              Param #   \n",
      "=================================================================\n",
      "dense_1 (Dense)              (None, 64)                26176     \n",
      "_________________________________________________________________\n",
      "dropout_1 (Dropout)          (None, 64)                0         \n",
      "_________________________________________________________________\n",
      "dense_2 (Dense)              (None, 64)                4160      \n",
      "_________________________________________________________________\n",
      "dropout_2 (Dropout)          (None, 64)                0         \n",
      "_________________________________________________________________\n",
      "dense_3 (Dense)              (None, 32)                2080      \n",
      "_________________________________________________________________\n",
      "dropout_3 (Dropout)          (None, 32)                0         \n",
      "_________________________________________________________________\n",
      "dense_4 (Dense)              (None, 6)                 198       \n",
      "=================================================================\n",
      "Total params: 32,614\n",
      "Trainable params: 32,614\n",
      "Non-trainable params: 0\n",
      "_________________________________________________________________\n"
     ]
    }
   ],
   "source": [
    "# Start with a simple sequential model\n",
    "model = Sequential()\n",
    "\n",
    "model.add(Dense(64, activation='relu', input_shape=(408,)))\n",
    "# Dropout layers remove features and fight overfitting\n",
    "model.add(Dropout(0.2))\n",
    "model.add(Dense(64, activation='relu'))\n",
    "model.add(Dropout(0.2))\n",
    "model.add(Dense(32, activation='relu'))\n",
    "model.add(Dropout(0.2))\n",
    "# End with a number of units equal to the number of classes we have for our outcome\n",
    "model.add(Dense(6, activation='softmax'))\n",
    "\n",
    "model.summary()\n",
    "\n",
    "# Compile the model to put it all together.\n",
    "model.compile(loss='mean_squared_error',\n",
    "              optimizer='adam',\n",
    "              metrics=['accuracy'])"
   ]
  },
  {
   "cell_type": "code",
   "execution_count": null,
   "metadata": {},
   "outputs": [
    {
     "name": "stdout",
     "output_type": "stream",
     "text": [
      "Train on 4688 samples, validate on 2009 samples\n",
      "Epoch 1/10\n"
     ]
    }
   ],
   "source": [
    "history = model.fit(x_train, y_train,\n",
    "                    batch_size=32,\n",
    "                    epochs=10,\n",
    "                    verbose=1,\n",
    "                    validation_data=(x_test, y_test))"
   ]
  },
  {
   "cell_type": "code",
   "execution_count": null,
   "metadata": {},
   "outputs": [],
   "source": []
  },
  {
   "cell_type": "code",
   "execution_count": null,
   "metadata": {},
   "outputs": [],
   "source": []
  },
  {
   "cell_type": "code",
   "execution_count": null,
   "metadata": {},
   "outputs": [],
   "source": []
  },
  {
   "cell_type": "code",
   "execution_count": null,
   "metadata": {},
   "outputs": [],
   "source": []
  },
  {
   "cell_type": "markdown",
   "metadata": {},
   "source": [
    "# Final evaluation: Add Mean absolute error\n"
   ]
  },
  {
   "cell_type": "code",
   "execution_count": 70,
   "metadata": {},
   "outputs": [],
   "source": [
    "from sklearn.metrics import mean_absolute_error\n",
    "\n",
    "test_performance = mean_absolute_error(test[\"rating\"], predictions)\n",
    "\n",
    "\n",
    "from sklearn.metrics import mean_squared_error\n",
    "from math import sqrt\n",
    "\n",
    "# Function to calculate RMSE\n",
    "def rmse(pred, actual):\n",
    "    # Ignore nonzero terms.\n",
    "    pred = pred[actual.nonzero()].flatten()\n",
    "    actual = actual[actual.nonzero()].flatten()\n",
    "    return sqrt(mean_squared_error(pred, actual))\n",
    "# Predict ratings on the training data with both similarity score\n",
    "user_prediction = predict(train_data_matrix, user_correlation, type='user')\n",
    "item_prediction = predict(train_data_matrix, item_correlation, type='item')\n",
    "# RMSE on the train data\n",
    "print('User-based CF RMSE: ' + str(rmse(user_prediction, train_data_matrix)))\n",
    "print('Item-based CF RMSE: ' + str(rmse(item_prediction, train_data_matrix)))\n",
    "## Output\n",
    "User-based CF RMSE: 699.9584792778463\n",
    "Item-based CF RMSE: 114.97271725933925"
   ]
  },
  {
   "cell_type": "markdown",
   "metadata": {},
   "source": [
    "### Using pandas"
   ]
  },
  {
   "cell_type": "code",
   "execution_count": null,
   "metadata": {
    "scrolled": true
   },
   "outputs": [],
   "source": []
  },
  {
   "cell_type": "code",
   "execution_count": null,
   "metadata": {},
   "outputs": [],
   "source": [
    "# Research Matrix factorization\n",
    "# Look into building Keras and class\n",
    "# Narrow down to predicting for one user? \n",
    "\n",
    "# Future: ALS, recmetrics, etc"
   ]
  }
 ],
 "metadata": {
  "kernelspec": {
   "display_name": "Python 3",
   "language": "python",
   "name": "python3"
  },
  "language_info": {
   "codemirror_mode": {
    "name": "ipython",
    "version": 3
   },
   "file_extension": ".py",
   "mimetype": "text/x-python",
   "name": "python",
   "nbconvert_exporter": "python",
   "pygments_lexer": "ipython3",
   "version": "3.7.1"
  },
  "toc": {
   "base_numbering": 1,
   "nav_menu": {},
   "number_sections": true,
   "sideBar": true,
   "skip_h1_title": false,
   "title_cell": "Table of Contents",
   "title_sidebar": "Contents",
   "toc_cell": false,
   "toc_position": {
    "height": "calc(100% - 180px)",
    "left": "10px",
    "top": "150px",
    "width": "205.438px"
   },
   "toc_section_display": true,
   "toc_window_display": true
  }
 },
 "nbformat": 4,
 "nbformat_minor": 2
}
